{
 "cells": [
  {
   "cell_type": "code",
   "execution_count": 1,
   "metadata": {},
   "outputs": [
    {
     "name": "stdout",
     "output_type": "stream",
     "text": [
      "[ 1  2  3  4  5  6  7  8 10]\n",
      "[[3 5 4 2 5 4 4 2 2 6 1 4 6 6 3 5 2 1 1 3]\n",
      " [1 6 3 5 6 6 2 2 1 4 3 2 3 4 2 1 5 5 3 4]]\n"
     ]
    },
    {
     "data": {
      "text/plain": [
       "array([[3, 5, 4, 2, 5, 4, 4, 2, 2, 6, 1, 4, 6, 6, 3, 5, 2, 1, 1, 3],\n",
       "       [1, 6, 3, 5, 6, 6, 2, 2, 1, 4, 3, 2, 3, 4, 2, 1, 5, 5, 3, 4]])"
      ]
     },
     "execution_count": 1,
     "metadata": {},
     "output_type": "execute_result"
    }
   ],
   "source": [
    "import numpy as np\n",
    "import random\n",
    "\"Create array\"\n",
    "arr = np.array([1,2,3,4,5,6,7,8,10])\n",
    "print(arr)\n",
    "\"2d array\"\n",
    "#%timeit \n",
    "arr1 = np.array([[random.randrange(1,7)for _ in range(20)],[random.randrange(1,7)for _ in range(20)]])\n",
    "print(arr1)\n",
    "arr1"
   ]
  },
  {
   "cell_type": "markdown",
   "metadata": {},
   "source": [
    "ndArray Attribute"
   ]
  },
  {
   "cell_type": "code",
   "execution_count": 4,
   "metadata": {},
   "outputs": [
    {
     "name": "stdout",
     "output_type": "stream",
     "text": [
      "int32\n",
      "2\n",
      "4\n",
      "40\n",
      "(2, 20)\n",
      "3 5 4 2 5 4 4 2 2 6 1 4 6 6 3 5 2 1 1 3 \n",
      "1 6 3 5 6 6 2 2 1 4 3 2 3 4 2 1 5 5 3 4 \n",
      "3 5 4 2 5 4 4 2 2 6 1 4 6 6 3 5 2 1 1 3 1 6 3 5 6 6 2 2 1 4 3 2 3 4 2 1 5 5 3 4 \n",
      " [[0. 0. 0. 0. 0.]\n",
      " [0. 0. 0. 0. 0.]]\n",
      "[[1 1 1 1]\n",
      " [1 1 1 1]]\n",
      "[[14 14 14 14 14]\n",
      " [14 14 14 14 14]\n",
      " [14 14 14 14 14]]\n",
      "[0 1 2 3 4]\n",
      "[5 6 7 8 9]\n",
      "[10  7  4]\n",
      "[0.    0.025 0.05  0.075 0.1  ]\n",
      "[[ 1  2  3  4  5]\n",
      " [ 6  7  8  9 10]\n",
      " [11 12 13 14 15]\n",
      " [16 17 18 19 20]]\n",
      "[[2 5 6 3 6]\n",
      " [5 2 5 6 5]\n",
      " [3 2 3 4 1]\n",
      " [1 6 5 2 2]]\n"
     ]
    }
   ],
   "source": [
    "#Type of element in ndarray\n",
    "print(arr1.dtype)\n",
    "\n",
    "#Dimension 1d, 2d etc\n",
    "print(arr1.ndim)\n",
    "\n",
    "#Get bytes stored for each element\\\n",
    "print(arr1.itemsize)\n",
    "\n",
    "#Get the total size of array\n",
    "print(arr1.size)\n",
    "\n",
    "\n",
    "#Get number of rows and columns in tuple format\n",
    "print(arr1.shape)\n",
    "\n",
    "#Iteration through the array\n",
    "for rows in arr1:\n",
    "    for cols in rows:\n",
    "        print(cols, end= ' ')\n",
    "    print()\n",
    "    \n",
    "#2d array as 1d array\n",
    "for row in arr1.flat:\n",
    "    print(row, end= ' ')\n",
    "    \n",
    "#Filling up numpy aray with specific values:\n",
    "print('\\n', np.zeros((2,5)))\n",
    "print(np.ones(shape = (2,4), dtype= int))\n",
    "print(np.full((3,5),14))\n",
    "\n",
    "#Create range of int\n",
    "\n",
    "print(np.arange(5))\n",
    "print(np.arange(5,10))\n",
    "print(np.arange(10,2,-3))\n",
    "\n",
    "#Create range of float \n",
    "\n",
    "print(np.linspace(0.0,0.1,num= 5))\n",
    "\n",
    "#Reshaping Array\n",
    "print(np.arange(1,21).reshape(4,5))\n",
    "\n",
    "#Create random integers using numpy\n",
    "my_arr = np.random.randint(1,7,20).reshape(4,5)\n",
    "print(my_arr)\n"
   ]
  },
  {
   "cell_type": "markdown",
   "metadata": {},
   "source": [
    "Numpy array operations between different array using operators"
   ]
  },
  {
   "cell_type": "code",
   "execution_count": 20,
   "metadata": {},
   "outputs": [
    {
     "name": "stdout",
     "output_type": "stream",
     "text": [
      "[ 2  4  6  8 10 12 14 16 20] [11 12 13 14 15 16 17 18 20] [ 22  48  78 112 150 192 238 288 400]\n",
      "[ True  True  True  True  True  True  True  True False]\n",
      "False\n",
      "[False False False False False False False False  True]\n"
     ]
    }
   ],
   "source": [
    "#-- Broadcasting operation where an operation with scalar is considered as operation with array containing all scalar elements\n",
    "a=arr*2\n",
    "b=arr+10\n",
    "c=a*b\n",
    "print(a,b,c)\n",
    "print(a<b)\n",
    "print(a is b)\n",
    "print(a == b)"
   ]
  },
  {
   "cell_type": "markdown",
   "metadata": {},
   "source": [
    "numpy multi dim array operations between elements of same numpy arrray using functions"
   ]
  },
  {
   "cell_type": "code",
   "execution_count": 1,
   "metadata": {},
   "outputs": [
    {
     "name": "stdout",
     "output_type": "stream",
     "text": [
      "[[1 2 3]\n",
      " [0 1 0]\n",
      " [0 2 0]\n",
      " [0 4 0]]\n",
      "13\n",
      "4\n",
      "1.0833333333333333\n",
      "1.3202482931462383\n",
      "1.7430555555555556\n",
      "[0.25 2.25 0.75]\n",
      "[2.         0.33333333 0.66666667 1.33333333]\n",
      "[1 9 3]\n",
      "[6 1 2 4]\n"
     ]
    }
   ],
   "source": [
    "import numpy as np\n",
    "grade = np.array([[1,2,3],[0,1,0],[0,2,0],[0,4,0]])\n",
    "print(grade)\n",
    "print(grade.sum())\n",
    "print(grade.max())\n",
    "print(grade.mean())\n",
    "print(grade.std())\n",
    "print(grade.var())\n",
    "print(grade.mean(axis=0)) #mean by col\n",
    "print(grade.mean(axis=1)) #mean by row\n",
    "print(grade.sum(axis=0))  #sum by col\n",
    "print(grade.sum(axis=1))  #sum by row"
   ]
  },
  {
   "cell_type": "markdown",
   "metadata": {},
   "source": [
    "Universal Function"
   ]
  },
  {
   "cell_type": "code",
   "execution_count": 5,
   "metadata": {},
   "outputs": [
    {
     "name": "stdout",
     "output_type": "stream",
     "text": [
      "[6 3 6 6 5]\n",
      "[2.44948974 1.73205081 2.44948974 2.44948974 2.23606798]\n",
      "[8.44948974 4.73205081 8.44948974 8.44948974 7.23606798]\n"
     ]
    }
   ],
   "source": [
    "no = np.array([random.randrange(1,7)for _ in range(5)])\n",
    "print(no)\n",
    "no1= np.sqrt(no)\n",
    "print(no1)\n",
    "no3 = np.add(no,no1)\n",
    "print(no3)"
   ]
  },
  {
   "cell_type": "markdown",
   "metadata": {},
   "source": [
    "Index and slice"
   ]
  },
  {
   "cell_type": "code",
   "execution_count": 11,
   "metadata": {},
   "outputs": [
    {
     "name": "stdout",
     "output_type": "stream",
     "text": [
      "[[0 1 0]\n",
      " [0 2 0]\n",
      " [0 3 0]\n",
      " [0 4 0]]\n",
      "1\n",
      "2\n",
      "3\n",
      "4\n",
      "[0 2 0]\n",
      "[0 3 0]\n",
      "[0 4 0]\n",
      "Select row consecutive\n",
      "[[0 1 0]\n",
      " [0 2 0]]\n",
      "select individual row\n",
      "[[0 2 0]\n",
      " [0 4 0]]\n",
      "select columns\n",
      "[1 2 3 4]\n",
      "select columns consecutive\n",
      "[[1 0]\n",
      " [2 0]\n",
      " [3 0]\n",
      " [4 0]]\n",
      "select individual columns\n",
      "[[0 0]\n",
      " [0 0]\n",
      " [0 0]\n",
      " [0 0]]\n"
     ]
    }
   ],
   "source": [
    "grade1 = np.array([[0,1,0],[0,2,0],[0,3,0],[0,4,0]])\n",
    "print(grade1)\n",
    "print(grade1[0,1])\n",
    "print(grade1[1,1])\n",
    "print(grade1[2,1])\n",
    "print(grade1[3,1])\n",
    "print(grade1[1])\n",
    "print(grade1[2])\n",
    "print(grade1[3])\n",
    "#print(grade1[4])\n",
    "print(\"Select row consecutive\")\n",
    "print(grade1[0:2])\n",
    "print(\"select individual row\")\n",
    "print(grade1[[1,3]])\n",
    "print(\"select columns\")\n",
    "print(grade1[:,1])\n",
    "print(\"select columns consecutive\")\n",
    "print(grade1[:,1:3])\n",
    "print(\"select individual columns\")\n",
    "print(grade1[:,[0,2]])"
   ]
  },
  {
   "cell_type": "markdown",
   "metadata": {},
   "source": [
    "Shallow Copy"
   ]
  },
  {
   "cell_type": "code",
   "execution_count": 18,
   "metadata": {},
   "outputs": [
    {
     "name": "stdout",
     "output_type": "stream",
     "text": [
      "Before\n",
      "[1 2 3 4 5 6 7 8 9]\n",
      "[1 2 3 4 5 6 7 8 9]\n",
      "After\n",
      "[10 20 30 40 50 60 70 80 90]\n",
      "[10 20 30 40 50 60 70 80 90]\n",
      "slicing\n",
      "[10 20 30]\n",
      "[19 29 39]\n",
      "[19 29 39 49 59 69 79 89 99]\n",
      "[19 29 39 49 59 69 79 89 99]\n"
     ]
    }
   ],
   "source": [
    "#Does not modify original array\n",
    "import numpy as np\n",
    "u = np.arange(1,10)\n",
    "v = u.view()\n",
    "print(\"Before\")\n",
    "print(u)\n",
    "print(v)\n",
    "print(\"After\")\n",
    "u*=10\n",
    "print(u)\n",
    "print(v)\n",
    "print('slicing')\n",
    "v = u[:3]  ##Slicing gives a view to original array\n",
    "print(v)\n",
    "u +=9\n",
    "print(v)\n",
    "print(u)\n",
    "v*2\n",
    "print(u)\n"
   ]
  },
  {
   "cell_type": "markdown",
   "metadata": {},
   "source": [
    "Deep Copy"
   ]
  },
  {
   "cell_type": "code",
   "execution_count": 5,
   "metadata": {},
   "outputs": [
    {
     "name": "stdout",
     "output_type": "stream",
     "text": [
      "Before\n",
      "[1 2 3 4 5 6]\n",
      "[1 2 3 4 5 6]\n",
      "After\n",
      "[11 12 13 14 15 16]\n",
      "[1 2 3 4 5 6]\n"
     ]
    }
   ],
   "source": [
    "w = np.arange(1,7)\n",
    "p = w.copy()\n",
    "print(\"Before\")\n",
    "print(w)\n",
    "print(p)\n",
    "w+=10\n",
    "print(\"After\")\n",
    "print(w)\n",
    "print(p)"
   ]
  },
  {
   "cell_type": "markdown",
   "metadata": {},
   "source": [
    "Reshaping and Transposing Numpy Arrays"
   ]
  },
  {
   "cell_type": "code",
   "execution_count": 7,
   "metadata": {},
   "outputs": [
    {
     "name": "stdout",
     "output_type": "stream",
     "text": [
      "[[0 1 0]\n",
      " [0 2 0]\n",
      " [0 3 0]\n",
      " [0 4 0]]\n",
      "[[0 1 0 0 2 0 0 3 0 0 4 0]]\n",
      "[[0 1 0]\n",
      " [0 2 0]\n",
      " [0 3 0]\n",
      " [0 4 0]]\n",
      "My None\n",
      "[[0 1 0 0 2 0 0 3 0 0 4 0]]\n",
      "FLATTEN\n",
      "[0 1 0 0 2 0]\n",
      "[[0 1 0]\n",
      " [0 2 0]]\n",
      "RAVEL\n",
      "[0 1 0 0 2 0]\n",
      "[[10 11 10]\n",
      " [10 12 10]]\n",
      "[100 110 100 100 120 100]\n",
      "[[100 110 100]\n",
      " [100 120 100]]\n",
      "TRANSPOSE\n",
      "[[0 1 0]\n",
      " [0 2 0]]\n",
      "Transposed\n",
      " [[0 0]\n",
      " [1 2]\n",
      " [0 0]]\n",
      "hstack\n",
      "[[0 4 0]\n",
      " [0 5 0]]\n",
      "[[0 1 0 0 4 0]\n",
      " [0 2 0 0 5 0]]\n",
      "[[0 0]\n",
      " [4 5]\n",
      " [0 0]]\n",
      "vstack\n",
      "[[0 0]\n",
      " [1 2]\n",
      " [0 0]\n",
      " [0 0]\n",
      " [4 5]\n",
      " [0 0]]\n"
     ]
    }
   ],
   "source": [
    "#Reshape-- Just a view and does not modify original array shape(shallow copy type)\n",
    "grade2 = np.array([[0,1,0],[0,2,0],[0,3,0],[0,4,0]])\n",
    "print(grade2)\n",
    "grade3 = grade2.reshape(1,12)\n",
    "print(grade3)\n",
    "print(grade2)\n",
    "\n",
    "#Resize-- Can modify original array shape(deep copy type)\n",
    "grade4 = grade2.resize(1,12)\n",
    "print('My', grade4)\n",
    "print(grade2)\n",
    "\n",
    "#Flatten- Performs deep copy and flatten original array\n",
    "print('FLATTEN')\n",
    "grades = np.array([[0,1,0],[0,2,0]])\n",
    "flat = grades.flatten()\n",
    "print(flat)\n",
    "print(grades)\n",
    "\n",
    "#Ravel - Perform shallow copy\n",
    "print('RAVEL')\n",
    "grades6 = np.array([[0,1,0],[0,2,0]])\n",
    "ravel = grades6.ravel()\n",
    "print(ravel)\n",
    "ravel+=10\n",
    "print(grades6)\n",
    "grades6*=10\n",
    "print(ravel)\n",
    "print(grades6)\n",
    "\n",
    "#Transposing multi dim Array--Produces vie/shallow copy\n",
    "print('TRANSPOSE')\n",
    "grades = np.array([[0,1,0],[0,2,0]])\n",
    "print(grades)\n",
    "print(\"Transposed\\n\", grades.T)\n",
    "\n",
    "#H-Stack function for combining 2 arrays\n",
    "grades2 = np.array([[0,4,0],[0,5,0]])\n",
    "print('hstack')\n",
    "print(grades2)\n",
    "print(np.hstack((grades,grades2)))\n",
    "\n",
    "#V-Stack\n",
    "print(grades2.T)\n",
    "print('vstack')\n",
    "print(np.vstack((grades.T,grades2.T)))"
   ]
  }
 ],
 "metadata": {
  "kernelspec": {
   "display_name": "Python 3",
   "language": "python",
   "name": "python3"
  },
  "language_info": {
   "codemirror_mode": {
    "name": "ipython",
    "version": 3
   },
   "file_extension": ".py",
   "mimetype": "text/x-python",
   "name": "python",
   "nbconvert_exporter": "python",
   "pygments_lexer": "ipython3",
   "version": "3.7.3"
  }
 },
 "nbformat": 4,
 "nbformat_minor": 4
}
