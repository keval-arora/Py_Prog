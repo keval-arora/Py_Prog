{
 "cells": [
  {
   "cell_type": "code",
   "execution_count": 1,
   "metadata": {},
   "outputs": [],
   "source": [
    "from pathlib import Path\n",
    "from random import choice\n",
    "from string import ascii_lowercase as letters\n",
    "\n",
    "domain_list = ['gmail.com', 'yahoo.com', 'hotmail.com']\n",
    "\n",
    "regions = ['India', 'China', 'Russia', 'Canada']\n",
    "\n",
    "def gen_name(length_of_name):\n",
    "    return ''.join(choice(letters) for i in range(length_of_name) )\n",
    "\n",
    "def get_domain(domain_list):\n",
    "    return choice(domain_list)\n",
    "\n",
    "def get_regions(regions):\n",
    "    return choice(regions)\n",
    "\n",
    "def gen_rec(length_of_name, domain_list, total_rec, regions):\n",
    "    dest_dir = Path(r'C:\\Users\\karora29\\Documents\\Learning\\Python\\Py_Prog\\File Handling')\n",
    "    des_file = Path.joinpath(dest_dir, 'wr_file.txt')\n",
    "    with open(des_file, 'wt') as write_file:\n",
    "        for n in range(total_rec):\n",
    "            key = gen_name(length_of_name) + \"@\" + get_domain(domain_list)\n",
    "            value = get_regions(regions)\n",
    "            write_file.write(key + ', ' + value + \"\\n\")\n",
    "            \n",
    "gen_rec(10, domain_list, 100, regions)\n",
    "\n"
   ]
  }
 ],
 "metadata": {
  "kernelspec": {
   "display_name": "Python 3",
   "language": "python",
   "name": "python3"
  },
  "language_info": {
   "codemirror_mode": {
    "name": "ipython",
    "version": 3
   },
   "file_extension": ".py",
   "mimetype": "text/x-python",
   "name": "python",
   "nbconvert_exporter": "python",
   "pygments_lexer": "ipython3",
   "version": "3.7.3"
  }
 },
 "nbformat": 4,
 "nbformat_minor": 4
}
