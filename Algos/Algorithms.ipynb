{
 "cells": [
  {
   "cell_type": "markdown",
   "metadata": {},
   "source": [
    "#Normal Multiplication:-\n",
    "--Normal multiplication is y =f(n) =n^2(Where the function represents the number of operation performed(n^2) as the function of input length of     number n);\n",
    "--This basically means that as the length of number increases, the operation performed will be squared;\n",
    "\n",
    "#Karatsuba Multiplication:-\n",
    "--Uses Recursive Divide & Conquer algo where digits say X = 1234 & Y = 5678 is divided into half smaller digits say a = 12, b =34, c = 56, d =78;\n",
    "--Now X*Y = ((10^n/2)a + b)*((10^n/2)c + d) = (10^n)ac + (10^n/2)(ad+bc) + bd;\n",
    "--Now recursively compute ac, ad, bc, bd and then compute the above expression;\n",
    "STEPS:\n",
    "1. Recursively compute ac\n",
    "2. Recursively compute bd\n",
    "3. Recursively compute (a+b)(c+d) =ac+ad+bc+bd\n",
    "4. apply gauss's trick: 3-1-2 = ad+bc\n",
    "Now only 3 multiplication recursive shots are required\n"
   ]
  },
  {
   "cell_type": "code",
   "execution_count": null,
   "metadata": {},
   "outputs": [],
   "source": []
  }
 ],
 "metadata": {
  "kernelspec": {
   "display_name": "Python 3",
   "language": "python",
   "name": "python3"
  },
  "language_info": {
   "codemirror_mode": {
    "name": "ipython",
    "version": 3
   },
   "file_extension": ".py",
   "mimetype": "text/x-python",
   "name": "python",
   "nbconvert_exporter": "python",
   "pygments_lexer": "ipython3",
   "version": "3.7.3"
  }
 },
 "nbformat": 4,
 "nbformat_minor": 2
}
