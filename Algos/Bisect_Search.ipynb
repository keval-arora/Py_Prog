{
 "cells": [
  {
   "cell_type": "code",
   "execution_count": 21,
   "metadata": {},
   "outputs": [
    {
     "name": "stdout",
     "output_type": "stream",
     "text": [
      "[0, 1, 2, 3, 5, 6, 7, 8, 9]\n",
      "0 8 4\n",
      "5 8 6\n",
      "7 8 7\n",
      "7\n"
     ]
    }
   ],
   "source": [
    "import random\n",
    "def quick_sort(lis):\n",
    "    \"\"\"Quick Sort Algorithm\"\"\"\n",
    "    if len(lis)<2:\n",
    "        return lis\n",
    "    else:\n",
    "        pivot = lis[-1]\n",
    "        small, equal, large = [],[],[]\n",
    "        for num in lis:\n",
    "            if num < pivot:\n",
    "                small.append(num)\n",
    "            elif num == pivot:\n",
    "                equal.append(num)      \n",
    "            else:\n",
    "                large.append(num)\n",
    "    return quick_sort(small) + equal + quick_sort(large)\n",
    "\n",
    "def bisect_search(lis, num):\n",
    "    start_index = 0\n",
    "    stop_index = len(lis)-1\n",
    "    \n",
    "    while start_index <= stop_index:\n",
    "        mid_index = (start_index+stop_index)//2\n",
    "        print(start_index, stop_index,mid_index)\n",
    "        \n",
    "        if num > lis[mid_index]:\n",
    "            start_index = mid_index +1\n",
    "        elif num < lis[mid_index]:\n",
    "            stop_index = mid_index-1\n",
    "        elif num == lis[mid_index]:\n",
    "            return mid_index\n",
    "    return f\"Not Found\"\n",
    "            \n",
    "\n",
    "#EXEC#       \n",
    "# run_time = 10\n",
    "# for num in range(run_time):\n",
    "#     max_range=100 \n",
    "#     size=100\n",
    "#     random_list = [random.randint(1,max_range) for count in range(size)]\n",
    "#     print(bisect_search(random_list, 81))\n",
    "#     print('*'*40)\n",
    "    \n",
    "\n",
    "l1 =[0,3,5,1,6,7,9,8,2]\n",
    "l2 = quick_sort(l1)\n",
    "print(l2)\n",
    "\n",
    "print(bisect_search(l2,8))\n",
    "\n"
   ]
  },
  {
   "cell_type": "code",
   "execution_count": 12,
   "metadata": {},
   "outputs": [
    {
     "name": "stdout",
     "output_type": "stream",
     "text": [
      "0 8 4\n",
      "5 8\n",
      "5 5 5\n",
      "Not Found\n",
      "None\n"
     ]
    }
   ],
   "source": [
    "def bin_srch(no, lis, start_index, stop_index):\n",
    "    \"\"\"B\"\"\"\n",
    "    if start_index > stop_index:\n",
    "        return print(\"Not Found\")\n",
    "    else:\n",
    "        middle = (start_index + stop_index)//2\n",
    "        if no == lis[middle]:\n",
    "            print(start_index, stop_index, middle)\n",
    "            return middle\n",
    "        elif no < lis[middle]:\n",
    "            print(start_index, stop_index)\n",
    "            return bin_srch(no, lis, start_index, middle-1)\n",
    "        else:\n",
    "            print(start_index, stop_index, middle)\n",
    "            return bin_srch(no, lis, middle+1, stop_index)\n",
    "        \n",
    "def quick_sort(lis):\n",
    "    \"\"\"Quick Sort Algorithm\"\"\"\n",
    "    if len(lis)<2:\n",
    "        return lis\n",
    "    else:\n",
    "        pivot = lis[-1]\n",
    "        small, equal, large = [],[],[]\n",
    "        for num in lis:\n",
    "            if num < pivot:\n",
    "                small.append(num)\n",
    "            elif num == pivot:\n",
    "                equal.append(num)      \n",
    "            else:\n",
    "                large.append(num)\n",
    "    return quick_sort(small) + equal + quick_sort(large)\n",
    "\n",
    "        \n",
    "#EXEC#\n",
    "# run_time = 10\n",
    "# for num in range(run_time):\n",
    "#     max_range=100 \n",
    "#     size=100\n",
    "#     random_list = [random.randint(1,max_range) for count in range(size)]\n",
    "#     print(bin_srch(76,random_list,0,len(random_list)))\n",
    "#     print('*'*40)\n",
    "\n",
    "l1 =[0,3,5,1,6,7,9,8,2]\n",
    "print(bin_srch(8,l1,0,len(l1)-1))"
   ]
  }
 ],
 "metadata": {
  "kernelspec": {
   "display_name": "Python 3",
   "language": "python",
   "name": "python3"
  },
  "language_info": {
   "codemirror_mode": {
    "name": "ipython",
    "version": 3
   },
   "file_extension": ".py",
   "mimetype": "text/x-python",
   "name": "python",
   "nbconvert_exporter": "python",
   "pygments_lexer": "ipython3",
   "version": "3.7.3"
  }
 },
 "nbformat": 4,
 "nbformat_minor": 4
}
