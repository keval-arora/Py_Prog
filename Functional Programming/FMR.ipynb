{
 "cells": [
  {
   "cell_type": "code",
   "execution_count": 7,
   "metadata": {},
   "outputs": [
    {
     "name": "stdout",
     "output_type": "stream",
     "text": [
      "[5, 7, 9, 1]\n",
      "[5, 7, 9, 1]\n",
      "[5, 7, 9, 1]\n",
      " 17           0 LOAD_FAST                0 (x)\n",
      "              2 LOAD_FAST                1 (func)\n",
      "              4 LOAD_FAST                0 (x)\n",
      "              6 CALL_FUNCTION            1\n",
      "              8 BINARY_ADD\n",
      "             10 RETURN_VALUE\n"
     ]
    }
   ],
   "source": [
    "#Filter-- Uses Brute force/lazy algo to iterate through all the elements in sequence and apply lambdas or function on each element\n",
    "import dis\n",
    "mylist =[2,5,4,7,6,8,9,2,0,1]\n",
    "\n",
    "def is_odd(list1):\n",
    "    return list1%2!=0\n",
    "\n",
    "odd_list1 = [item for item in mylist if item%2 != 0 ]\n",
    "print(odd_list1)\n",
    "\n",
    "odd_list2 = list(filter(lambda x:x%2!=0, mylist))\n",
    "print(odd_list2)\n",
    "\n",
    "odd_list3 = list(filter(is_odd, mylist))\n",
    "print(odd_list3)\n",
    "\n",
    "high_ord_func = lambda x, func: x + func(x)\n",
    "high_ord_func(2, lambda x: x * x)\n",
    "\n",
    "dis.dis(high_ord_func)\n",
    "\n",
    "#Limitiation of Lambda:\n",
    "# Traceback problem as Lambda expression will always return lambda and not any precise func name while exception\n",
    "#lambda func only contains computation expression i body so statement like pass, assert, return and raise will raise Syntax Error\n",
    "#Lambda expression does not support type annotation"
   ]
  },
  {
   "cell_type": "code",
   "execution_count": 15,
   "metadata": {},
   "outputs": [
    {
     "name": "stdout",
     "output_type": "stream",
     "text": [
      "[4, 25, 16, 49, 36, 64, 81, 4, 0, 1]\n",
      "[25, 49, 81, 1]\n",
      "[25, 49, 81, 1]\n"
     ]
    }
   ],
   "source": [
    "#Map--Returns iterator- its a lazy func\n",
    "mylist1 =[2,5,4,7,6,8,9,2,0,1]\n",
    "sq_list1 = list(map(lambda x:x**2, mylist1))\n",
    "print(sq_list1)\n",
    "sq_list2 = list(map(lambda x:x**2,filter(lambda x:x%2!=0, mylist)))\n",
    "print(sq_list2)\n",
    "sq_list3 = [item**2 for item in mylist if item%2 != 0 ]\n",
    "print(sq_list3)"
   ]
  },
  {
   "cell_type": "code",
   "execution_count": null,
   "metadata": {},
   "outputs": [],
   "source": []
  }
 ],
 "metadata": {
  "kernelspec": {
   "display_name": "Python 3",
   "language": "python",
   "name": "python3"
  },
  "language_info": {
   "codemirror_mode": {
    "name": "ipython",
    "version": 3
   },
   "file_extension": ".py",
   "mimetype": "text/x-python",
   "name": "python",
   "nbconvert_exporter": "python",
   "pygments_lexer": "ipython3",
   "version": "3.7.3"
  }
 },
 "nbformat": 4,
 "nbformat_minor": 4
}
