{
 "cells": [
  {
   "cell_type": "code",
   "execution_count": null,
   "metadata": {},
   "outputs": [],
   "source": [
    "def get_num():\n",
    "    return int(input('Enter a number'))\n",
    "\n",
    "def get_operator():\n",
    "    return input('Enter a operator')\n",
    "\n",
    "def func_main(num,oper,num1):\n",
    "    return num+num1 if oper == '+'\\\n",
    "    else num*num1 if oper == '*'\\\n",
    "    else num-num1 if oper == '-'\\\n",
    "    else num/num1 if oper == '/'\\\n",
    "    else None\n",
    "\n",
    "print(func_main(get_num(),get_operator(),get_num()))"
   ]
  },
  {
   "cell_type": "code",
   "execution_count": null,
   "metadata": {},
   "outputs": [],
   "source": [
    "'''Sateless func:'''\n",
    "#A Stateless Func is a func which always gives the same result if given the same arguments and does not depends on program's state \n",
    "#like global variables/Object properties etc etc\n",
    "#It is completely predictable given we know the arguments input\n",
    "#These are the functions without side effects as it does not change the state of the program\n",
    "#If a function is stateless and is with no side effects is known as Referential Transparency. It allows parallel execution and can be tested \n",
    "#seperately. It can be easily fork to seperate thread in multi threaded programming.\n",
    "\n"
   ]
  },
  {
   "cell_type": "markdown",
   "metadata": {},
   "source": [
    "## Statless Function\n",
    "\n",
    "##### A Stateless function relies on:\n",
    "###### 1. The arguments passed\n",
    "###### 2. Return value on other function\n"
   ]
  },
  {
   "cell_type": "code",
   "execution_count": 12,
   "metadata": {},
   "outputs": [
    {
     "name": "stdout",
     "output_type": "stream",
     "text": [
      "('John', 'Hello')\n"
     ]
    }
   ],
   "source": [
    "def speak(speaker, text):\n",
    "    print(f'{speaker, text}')\n",
    "    \n",
    "speak('John', 'Hello')"
   ]
  },
  {
   "cell_type": "code",
   "execution_count": 76,
   "metadata": {},
   "outputs": [
    {
     "data": {
      "text/plain": [
       "0.0035898685455322266"
      ]
     },
     "execution_count": 76,
     "metadata": {},
     "output_type": "execute_result"
    }
   ],
   "source": [
    "import time\n",
    "import numpy as np\n",
    "def fact(arg):\n",
    "    return 1 if arg == 1 else arg*fact(arg-1)\n",
    "\n",
    "def timer(func,arg):\n",
    "    start = time.time()\n",
    "    func(arg)\n",
    "    stop = time.time()\n",
    "    return stop-start\n",
    "\n",
    "a1= [timer(fact, 2000)for _ in range(10)]\n",
    "\n",
    "np.mean(a1)\n"
   ]
  },
  {
   "cell_type": "code",
   "execution_count": 75,
   "metadata": {},
   "outputs": [
    {
     "name": "stdout",
     "output_type": "stream",
     "text": [
      "0.003989768028259277\n"
     ]
    }
   ],
   "source": [
    "import numpy as np\n",
    "get_timer = lambda func, arg:(time.time(), func(arg), time.time())\n",
    "get_diff = lambda t0, funcn, t1: t1-t0\n",
    "execute = lambda func, arg:get_diff(*(get_timer(func,arg)))\n",
    "\n",
    "gen= (execute(fact, 2000)for _ in range(10))\n",
    "\n",
    "new = np.array([*gen])\n",
    "\n",
    "print(np.mean(new))"
   ]
  }
 ],
 "metadata": {
  "kernelspec": {
   "display_name": "Python 3",
   "language": "python",
   "name": "python3"
  },
  "language_info": {
   "codemirror_mode": {
    "name": "ipython",
    "version": 3
   },
   "file_extension": ".py",
   "mimetype": "text/x-python",
   "name": "python",
   "nbconvert_exporter": "python",
   "pygments_lexer": "ipython3",
   "version": "3.7.3"
  }
 },
 "nbformat": 4,
 "nbformat_minor": 4
}
