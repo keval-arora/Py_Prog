{
 "cells": [
  {
   "cell_type": "code",
   "execution_count": 5,
   "metadata": {},
   "outputs": [
    {
     "name": "stdout",
     "output_type": "stream",
     "text": [
      "10\n",
      "7.5\n",
      "5.0\n"
     ]
    }
   ],
   "source": [
    "import itertools\n",
    "counter = itertools.count(start=10, step =-2.5)\n",
    "for num in counter:\n",
    "    if num == 2.5:\n",
    "        break\n",
    "    else:\n",
    "        print(num)"
   ]
  },
  {
   "cell_type": "code",
   "execution_count": 6,
   "metadata": {},
   "outputs": [
    {
     "name": "stdout",
     "output_type": "stream",
     "text": [
      "[(0, 100), (1, 200), (2, 300), (3, 400)]\n"
     ]
    }
   ],
   "source": [
    "#Works/Zips/pairs until shortest data list is exhausted\n",
    "data = [100,200,300,400]   \n",
    "new_data = list(zip(itertools.count(), data))\n",
    "print(new_data)\n",
    "#new_data = zip(itertools.count(), data)\n",
    "#print(next(new_data))\n"
   ]
  },
  {
   "cell_type": "code",
   "execution_count": 12,
   "metadata": {},
   "outputs": [
    {
     "name": "stdout",
     "output_type": "stream",
     "text": [
      "((0, 100), (1, 200), (2, 300), (3, 400), (4, None), (5, None), (6, None), (7, None), (8, None), (9, None))\n"
     ]
    }
   ],
   "source": [
    "#Works/Zips/pairs until longest data list is exhausted\n",
    "from itertools import zip_longest\n",
    "new_data2 = tuple(zip_longest(range(10), data))\n",
    "print(new_data2)"
   ]
  },
  {
   "cell_type": "code",
   "execution_count": 13,
   "metadata": {},
   "outputs": [
    {
     "name": "stdout",
     "output_type": "stream",
     "text": [
      "1\n",
      "2\n",
      "3\n",
      "1\n",
      "2\n",
      "3\n",
      "1\n"
     ]
    }
   ],
   "source": [
    "#Create cycle which cycles btw the values each time the next value is fetched\n",
    "from itertools import cycle\n",
    "cycle_count = cycle([1,2,3])\n",
    "print(next(cycle_count))\n",
    "print(next(cycle_count))\n",
    "print(next(cycle_count))\n",
    "print(next(cycle_count))\n",
    "print(next(cycle_count))\n",
    "print(next(cycle_count))\n",
    "print(next(cycle_count))"
   ]
  },
  {
   "cell_type": "code",
   "execution_count": 2,
   "metadata": {},
   "outputs": [
    {
     "name": "stdout",
     "output_type": "stream",
     "text": [
      "2\n",
      "2\n",
      "2\n",
      "2\n",
      "2\n",
      "[0, 1, 4, 9, 16, 25, 36, 49, 64, 81]\n",
      "[1, 1, 4, 27, 256, 3125, 46656, 823543, 16777216, 387420489]\n"
     ]
    }
   ],
   "source": [
    "#repeat same value/constant again again. Generally used to provide constant value to map/zip\n",
    "#starmap takes the single list of tuples and produces a list which has computed values of the function applies on each tuple\n",
    "from itertools import repeat, starmap\n",
    "rep_counter = repeat(2, times= 5)\n",
    "for rep in rep_counter:\n",
    "    print(rep)\n",
    "\n",
    "power = list(map(pow, range(10), repeat(2)))\n",
    "power2 = list(starmap(pow, enumerate(range(10))))\n",
    "print(power)\n",
    "print(power2)\n"
   ]
  },
  {
   "cell_type": "code",
   "execution_count": 20,
   "metadata": {},
   "outputs": [
    {
     "name": "stdout",
     "output_type": "stream",
     "text": [
      "<itertools.combinations object at 0x000001A03DA00A98>\n",
      "Cominations:\n",
      "('a', 'b')\n",
      "('a', 'c')\n",
      "('a', 'd')\n",
      "('b', 'c')\n",
      "('b', 'd')\n",
      "('c', 'd')\n",
      "Permutations:\n",
      "('a', 'b')\n",
      "('a', 'c')\n",
      "('a', 'd')\n",
      "('b', 'a')\n",
      "('b', 'c')\n",
      "('b', 'd')\n",
      "('c', 'a')\n",
      "('c', 'b')\n",
      "('c', 'd')\n",
      "('d', 'a')\n",
      "('d', 'b')\n",
      "('d', 'c')\n",
      "Cartisian Products:\n",
      "('a', 'a')\n",
      "('a', 'b')\n",
      "('a', 'c')\n",
      "('a', 'd')\n",
      "('b', 'a')\n",
      "('b', 'b')\n",
      "('b', 'c')\n",
      "('b', 'd')\n",
      "('c', 'a')\n",
      "('c', 'b')\n",
      "('c', 'c')\n",
      "('c', 'd')\n",
      "('d', 'a')\n",
      "('d', 'b')\n",
      "('d', 'c')\n",
      "('d', 'd')\n"
     ]
    }
   ],
   "source": [
    "#Permutation & Combinations\n",
    "#Combinations allows us to arrange the values in different ways where order dossn't matter\n",
    "#Combinations allows us to arrange the values in different ways where order does matter\n",
    "#Product allows us to get the cartisian product with repeated values unlike in permutations and combinations\n",
    "import itertools\n",
    "let = ['a','b','c','d']\n",
    "result = itertools.combinations(let, 2)\n",
    "print(result)\n",
    "print('Cominations:')\n",
    "for items in result:   \n",
    "    print(items)\n",
    "result2 = itertools.permutations(let,2)\n",
    "print('Permutations:')\n",
    "for items2 in result2:   \n",
    "    print(items2)\n",
    "result3 = itertools.product(let,repeat =2)\n",
    "print('Cartisian Products:') \n",
    "for items3 in result3:   \n",
    "    print(items3)"
   ]
  },
  {
   "cell_type": "code",
   "execution_count": 55,
   "metadata": {},
   "outputs": [
    {
     "name": "stdout",
     "output_type": "stream",
     "text": [
      "<itertools.chain object at 0x000001EFDE60A400>\n",
      "0\n",
      "1\n",
      "2\n",
      "3\n",
      "keval\n",
      "arora\n"
     ]
    }
   ],
   "source": [
    "#Allows us to chain together iterables so that it can go through all the items in first iterable and after getting exhausted it will\n",
    "#go through the items of second iterables.\n",
    "#Chain allows us to concatinate different iterable/ iterator into one iterator object\n",
    "from itertools import chain\n",
    "numb = [0,1,2,3]\n",
    "name= ['keval', 'arora']\n",
    "combined = chain(numb,name)\n",
    "\n",
    "print(combined)\n",
    "for item5 in combined:\n",
    "    print(item5)\n",
    "\n",
    "\n"
   ]
  },
  {
   "cell_type": "code",
   "execution_count": 71,
   "metadata": {},
   "outputs": [
    {
     "name": "stdout",
     "output_type": "stream",
     "text": [
      "<itertools.islice object at 0x000001EFDF1259A8>\n",
      "1\n",
      "3\n"
     ]
    }
   ],
   "source": [
    "#Slicing an iterator object\n",
    "from itertools import islice\n",
    "sli  = islice(range(10), 1, 5, 2)\n",
    "print(sli)\n",
    "\n",
    "for item6 in sli:\n",
    "    print(item6)\n",
    "    \n",
    "# with open('file.log', r) as f:\n",
    "#     header = itertools.islice(f, 3)\n",
    "#     for line in header:\n",
    "#         print(line, end='')"
   ]
  },
  {
   "cell_type": "code",
   "execution_count": 82,
   "metadata": {},
   "outputs": [
    {
     "name": "stdout",
     "output_type": "stream",
     "text": [
      "a\n",
      "c\n",
      "0\n",
      "2\n"
     ]
    }
   ],
   "source": [
    "#Compress is like filter func but it takes boolean value in iterable and filters out another iterable based on true value in lis\n",
    "#Unlike filter, compress does not takes transform fun but takes iterable containing boolean value\n",
    "\n",
    "from itertools import compress, filterfalse\n",
    "selectors =[True, False, True, False]\n",
    "result4 = compress(let, selectors)\n",
    "result8 = filterfalse(lambda x : x%2 == 1, numb)\n",
    "for item in result4:\n",
    "    print(item)\n",
    "for item7 in result8:\n",
    "    print(item7)"
   ]
  },
  {
   "cell_type": "code",
   "execution_count": 85,
   "metadata": {},
   "outputs": [
    {
     "name": "stdout",
     "output_type": "stream",
     "text": [
      "1\n",
      "3\n",
      "6\n",
      "10\n",
      "15\n",
      "21\n",
      "______________________________\n",
      "1\n",
      "2\n",
      "6\n",
      "24\n",
      "120\n",
      "720\n"
     ]
    }
   ],
   "source": [
    "#accumulate\n",
    "from itertools import accumulate\n",
    "import operator\n",
    "number=[1,2,3,4,5,6]\n",
    "rel =  accumulate(number)\n",
    "rel2= accumulate(number, operator.mul)\n",
    "for ite in rel:\n",
    "    print(ite)\n",
    "print('_'*30)\n",
    "for ite in rel2:\n",
    "    print(ite)\n"
   ]
  },
  {
   "cell_type": "code",
   "execution_count": null,
   "metadata": {},
   "outputs": [],
   "source": [
    "#Groupby\n",
    "#It will go through an iterable, and group values based on certain keys, and then it will return a stream of tuples and\n",
    "#tuples consists of items which were grouped on and the second value of tuple is an iterator that contains all of the item grouped by the key\n",
    "\n",
    "."
   ]
  }
 ],
 "metadata": {
  "kernelspec": {
   "display_name": "Python 3",
   "language": "python",
   "name": "python3"
  },
  "language_info": {
   "codemirror_mode": {
    "name": "ipython",
    "version": 3
   },
   "file_extension": ".py",
   "mimetype": "text/x-python",
   "name": "python",
   "nbconvert_exporter": "python",
   "pygments_lexer": "ipython3",
   "version": "3.7.3"
  }
 },
 "nbformat": 4,
 "nbformat_minor": 4
}
