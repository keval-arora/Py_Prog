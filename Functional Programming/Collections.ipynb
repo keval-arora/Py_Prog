{
 "cells": [
  {
   "cell_type": "code",
   "execution_count": 2,
   "metadata": {},
   "outputs": [
    {
     "name": "stdout",
     "output_type": "stream",
     "text": [
      "<class 'collections.Counter'>\n",
      "Counter({'My': 2, 'Name': 2, 'is': 2, 'Arora': 2, 'Keval': 1, 'Nikhil': 1})\n",
      "Counter({'Name': 2, 'is': 2, 'Keval': 1, 'Nikhil': 1})\n",
      "[('My', 2), ('Name', 2), ('is', 2)]\n",
      "dict_keys(['My', 'Name', 'is', 'Keval', 'Arora', 'Nikhil'])\n",
      "dict_values([2, 2, 2, 1, 2, 1])\n",
      "dict_items([('My', 2), ('Name', 2), ('is', 2), ('Keval', 1), ('Arora', 2), ('Nikhil', 1)])\n",
      "['My', 'My', 'Name', 'Name', 'is', 'is', 'Keval', 'Arora', 'Arora', 'Nikhil']\n",
      "Counter({'My': 2, 'Arora': 2, 'Name': 0, 'is': 0, 'Keval': 0, 'Nikhil': 0})\n",
      "Counter({'My': 2, 'Name': 2, 'is': 2, 'Arora': 2, 'Keval': 1, 'Nikhil': 1})\n"
     ]
    }
   ],
   "source": [
    "from collections import Counter\n",
    "text_letters = ('My Name is Keval Arora ' \n",
    "                'My Name is Nikhil Arora')\n",
    "\n",
    "text_letters1 = ('Name is Keval  ' \n",
    "                ' Name is Nikhil ')\n",
    "\n",
    "count = Counter(text_letters.split())\n",
    "count1 = Counter(text_letters1.split())\n",
    "print(type(count))\n",
    "print(count)\n",
    "print(count1)\n",
    "print(count.most_common(3))\n",
    "print(count.keys())\n",
    "print(count.values())\n",
    "print(count.items())\n",
    "print(list(count.elements()))\n",
    "count.subtract(count1)\n",
    "print(count)\n",
    "count.update(count1)\n",
    "print(count)\n",
    "\n",
    "#count+,-,&,|count1"
   ]
  },
  {
   "cell_type": "code",
   "execution_count": 2,
   "metadata": {},
   "outputs": [
    {
     "name": "stdout",
     "output_type": "stream",
     "text": [
      "Employee(emp_name='Keval', emp_id='1214567', earnings='55000')\n",
      "Can be accessed via attribute:  Keval\n",
      "Can be accessed via Index:  55000\n"
     ]
    }
   ],
   "source": [
    "from collections import namedtuple\n",
    "\"\"\"Act like class. Helps us to access tuple elements by field name\"\"\"\n",
    "Employee = namedtuple('Employee', ['emp_name', 'emp_id', 'earnings'])\n",
    "employees =[]\n",
    "# for _ in range(2):\n",
    "#     \"\"\"Creating list of named tuple\"\"\"\n",
    "#     employees.append(Employee(input('enter a name'), emp_id= int(input('enter emp id')),earnings=int(input('enter earnings'))))\n",
    "# print(employees)\n",
    "\n",
    "# print(employees[0][0])       \n",
    "emp1 = Employee(emp_name='Keval', emp_id = '1214567',earnings = '55000' )\n",
    "print(emp1)\n",
    "print(\"Can be accessed via attribute: \", emp1.emp_name)\n",
    "print(\"Can be accessed via Index: \",emp1[2])"
   ]
  },
  {
   "cell_type": "code",
   "execution_count": 15,
   "metadata": {},
   "outputs": [
    {
     "name": "stdout",
     "output_type": "stream",
     "text": [
      "Customer(Name='Keval', Account_No=15021992, DOB=1217305, Account_Type='Salary')\n",
      "('Name', 'Account_No', 'DOB', 'Account_Type')\n",
      "OrderedDict([('Name', 'Keval'), ('Account_No', 15021992), ('DOB', 1217305), ('Account_Type', 'Salary')])\n",
      "Customer(Name='Keval', Account_No='22334455', DOB=1217305, Account_Type='Salary')\n"
     ]
    }
   ],
   "source": [
    "from collections import namedtuple\n",
    "\n",
    "Customer = namedtuple('Customer', ['Name', 'Account_No', 'DOB', 'Account_Type'])\n",
    "l1 = [\"Keval\", 15021992, 1217305, 'Salary']\n",
    "cust1 = Customer._make(l1)\n",
    "print(cust1)\n",
    "print(cust1._fields)\n",
    "print(cust1._asdict())\n",
    "cust2 = cust1._replace(Account_No = '22334455')\n",
    "print(cust2)"
   ]
  },
  {
   "cell_type": "code",
   "execution_count": 16,
   "metadata": {},
   "outputs": [
    {
     "name": "stdin",
     "output_type": "stream",
     "text": [
      "Enter scientist name raj\n",
      "Enter scientist field phy\n",
      "Enter scientist DOB 12\n",
      "Enter scientist prize nobel\n"
     ]
    },
    {
     "name": "stdout",
     "output_type": "stream",
     "text": [
      "1, Scientist created\n"
     ]
    },
    {
     "name": "stdin",
     "output_type": "stream",
     "text": [
      "Enter scientist name bang\n",
      "Enter scientist field history\n",
      "Enter scientist DOB 34\n",
      "Enter scientist prize iifa\n"
     ]
    },
    {
     "name": "stdout",
     "output_type": "stream",
     "text": [
      "2, Scientist created\n",
      "Before Filtering: ,(Scientist(name='raj', field='phy', born='12', prize='nobel'), Scientist(name='bang', field='history', born='34', prize='iifa'))\n",
      "Before Filtering: ()\n",
      "Before Filtering: ,(False, False)\n"
     ]
    }
   ],
   "source": [
    "import collections\n",
    "\n",
    "Scientist = collections.namedtuple('Scientist', ['name', 'field', 'born', 'prize'])\n",
    "scientists = []\n",
    "for item in range(2):\n",
    "    scientists.append(Scientist(name =input('Enter scientist name') , field = input('Enter scientist field'), born= input('Enter scientist DOB'), prize=input('Enter scientist prize')))\n",
    "    print(f'{item+1}, Scientist created')\n",
    "new_scientist= tuple(scientists)\n",
    "print(f'Before Filtering: ,{new_scientist}')\n",
    "filtered_scientist = tuple(filter(lambda x: x.prize == 'Nobel', new_scientist))\n",
    "print(f'Before Filtering: {filtered_scientist}')\n",
    "mapped_scientist = tuple(map(lambda x: x.prize == 'Nobel', new_scientist))\n",
    "print(f'Before Filtering: ,{mapped_scientist}')"
   ]
  },
  {
   "cell_type": "code",
   "execution_count": null,
   "metadata": {},
   "outputs": [],
   "source": [
    "from collections import deque\n",
    "\"Alternative to list for faster sequential data read / wright\"\n",
    "d = deque(\"Iam\")\n",
    "print(d)\n",
    "d.append('Keval')\n",
    "print(d)\n",
    "d.appendleft(\"Hello\")\n",
    "print(d)\n",
    "# pop\n",
    "# popleft()"
   ]
  },
  {
   "cell_type": "code",
   "execution_count": 9,
   "metadata": {},
   "outputs": [
    {
     "ename": "SyntaxError",
     "evalue": "unexpected EOF while parsing (<ipython-input-9-9321d3562ff9>, line 8)",
     "output_type": "error",
     "traceback": [
      "\u001b[1;36m  File \u001b[1;32m\"<ipython-input-9-9321d3562ff9>\"\u001b[1;36m, line \u001b[1;32m8\u001b[0m\n\u001b[1;33m    emp_list.append(Employees(Name=input(\"Enter the Name\") , Age=int(input(\"Enter the Age\")) , Type=input(\"Enter the Type\") , Earnings=int(input(\"Enter the Earnings\")))\u001b[0m\n\u001b[1;37m                                                                                                                                                                        ^\u001b[0m\n\u001b[1;31mSyntaxError\u001b[0m\u001b[1;31m:\u001b[0m unexpected EOF while parsing\n"
     ]
    }
   ],
   "source": [
    "from collections import namedtuple\n",
    "from pprint import pprint\n",
    "Employees = namedtuple('Employees',['Name', 'Age', 'Type', 'Earnings'])\n",
    "emp_list = []\n",
    "inp = int(input(\"Enter the number of Employees in list\"))\n",
    "for emp in range(inp):\n",
    "    print(f\"{emp+1} Employee:\")\n",
    "    emp_list.append(Employees(Name=input(\"Enter the Name\") , Age=int(input(\"Enter the Age\")) , Type=input(\"Enter the Type\") , Earnings=int(input(\"Enter the Earnings\")))\n"
   ]
  },
  {
   "cell_type": "code",
   "execution_count": 8,
   "metadata": {},
   "outputs": [
    {
     "name": "stdout",
     "output_type": "stream",
     "text": [
      "Employee(emp_name='Keval', emp_id=1217305)\n"
     ]
    }
   ],
   "source": [
    "import collections\n",
    "Employee = collections.namedtuple('Employee', ['emp_name','emp_id'])\n",
    "emp1 = Employee('Keval', 1217305)\n",
    "print(emp1)"
   ]
  }
 ],
 "metadata": {
  "kernelspec": {
   "display_name": "Python 3",
   "language": "python",
   "name": "python3"
  },
  "language_info": {
   "codemirror_mode": {
    "name": "ipython",
    "version": 3
   },
   "file_extension": ".py",
   "mimetype": "text/x-python",
   "name": "python",
   "nbconvert_exporter": "python",
   "pygments_lexer": "ipython3",
   "version": "3.7.3"
  }
 },
 "nbformat": 4,
 "nbformat_minor": 4
}
