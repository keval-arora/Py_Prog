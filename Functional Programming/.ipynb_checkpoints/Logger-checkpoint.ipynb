{
 "cells": [
  {
   "cell_type": "code",
   "execution_count": 17,
   "metadata": {},
   "outputs": [
    {
     "name": "stdout",
     "output_type": "stream",
     "text": [
      "None\n",
      "None\n"
     ]
    }
   ],
   "source": [
    "import logging\n",
    "\n",
    "logging.basicConfig(filename= 'log.txt', level= logging.DEBUG, format= '%(asctime)s:%(levelname)s:%(message)s')\n",
    "\n",
    "def decorator_func(my_func):\n",
    "    def wrapper_func(*args, **kwrgs):\n",
    "        return logging.debug(my_func(*args, **kwrgs))\n",
    "    return wrapper_func\n",
    "\n",
    "@decorator_func\n",
    "def yell(text):\n",
    "    return logging.debug(text.upper())\n",
    "\n",
    "@decorator_func\n",
    "def wisper(text):\n",
    "    return logging.debug(text.lower())\n",
    "\n",
    "print(yell('hello'))\n",
    "\n",
    "print(wisper('bye'))\n",
    "        "
   ]
  }
 ],
 "metadata": {
  "kernelspec": {
   "display_name": "Python 3",
   "language": "python",
   "name": "python3"
  },
  "language_info": {
   "codemirror_mode": {
    "name": "ipython",
    "version": 3
   },
   "file_extension": ".py",
   "mimetype": "text/x-python",
   "name": "python",
   "nbconvert_exporter": "python",
   "pygments_lexer": "ipython3",
   "version": "3.7.3"
  }
 },
 "nbformat": 4,
 "nbformat_minor": 4
}
