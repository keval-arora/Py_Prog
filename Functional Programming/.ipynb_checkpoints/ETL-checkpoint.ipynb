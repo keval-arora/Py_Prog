{
 "cells": [
  {
   "cell_type": "code",
   "execution_count": null,
   "metadata": {},
   "outputs": [],
   "source": [
    "from collections import namedtuple\n",
    "from pprint import pprint\n",
    "from time import time\n",
    "import multiprocessing\n",
    "Employees = namedtuple('Employees',['Name', 'Age', 'Type', 'Earnings'])\n",
    "emp_list = []\n",
    "inp = int(input(\"Enter the number of Employees in list\"))\n",
    "for emp in range(inp):\n",
    "    print(f\"{emp+1} Employee:\")\n",
    "    emp_list.append(Employees(Name=input(\"Enter the Name\") , Age=int(input(\"Enter the Age\")) , Type=input(\"Enter the Type\") , Earnings=int(input(\"Enter the Earnings\"))))\n",
    "\n",
    "new_emp = tuple(emp_list)\n",
    "pprint(new_emp)\n",
    "\n",
    "start= time.time()\n",
    "def transform(x):\n",
    "    return {'Name': x.Name, 'Age':2020-x.Age}\n",
    "pool = multiprocessing.pool()\n",
    "mapped_emp = tuple(pool.map(transform,new_emp))\n",
    "end = time.time()\n",
    "\n",
    "pprint(mapped_emp)\n",
    "pprint(end-start)\n",
    "\n",
    "\n"
   ]
  }
 ],
 "metadata": {
  "kernelspec": {
   "display_name": "Python 3",
   "language": "python",
   "name": "python3"
  },
  "language_info": {
   "codemirror_mode": {
    "name": "ipython",
    "version": 3
   },
   "file_extension": ".py",
   "mimetype": "text/x-python",
   "name": "python",
   "nbconvert_exporter": "python",
   "pygments_lexer": "ipython3",
   "version": "3.7.3"
  }
 },
 "nbformat": 4,
 "nbformat_minor": 4
}
