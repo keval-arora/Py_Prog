{
 "cells": [
  {
   "cell_type": "code",
   "execution_count": null,
   "metadata": {},
   "outputs": [],
   "source": [
    "\"Call By Value & Call By Reference\"\n",
    "# All Function Calls in Python are Call By Reference\n",
    "# If we pass Mutable objects then the original argument will change\n",
    "# If we pass immutable objects then a new Object will be created and Original Argument will not change"
   ]
  },
  {
   "cell_type": "code",
   "execution_count": 6,
   "metadata": {},
   "outputs": [
    {
     "name": "stdout",
     "output_type": "stream",
     "text": [
      "2915618918688\n",
      "2915618918688\n",
      "Inside function (1, 2, 3, 4, 5, 6)\n",
      "2915592997096\n",
      "Outside Function (1, 2, 3)\n",
      "2915618918688\n"
     ]
    }
   ],
   "source": [
    "tup1 = (1,2,3)\n",
    "print(id(tup1))\n",
    "\n",
    "def call_by_val(tup):\n",
    "    \"\"\"Call By Value\"\"\"\n",
    "    print(id(tup))\n",
    "    tup += (4,5,6)\n",
    "    print(\"Inside function\", tup)\n",
    "    print(id(tup))\n",
    "\n",
    "call_by_val(tup1)\n",
    "print(\"Outside Function\",tup1)\n",
    "print(id(tup1))\n",
    "    "
   ]
  },
  {
   "cell_type": "code",
   "execution_count": 3,
   "metadata": {},
   "outputs": [
    {
     "name": "stdout",
     "output_type": "stream",
     "text": [
      "140728828072768\n",
      "140728828072768\n",
      "Inside function 3\n",
      "140728828072832\n",
      "Outside Function 1\n",
      "140728828072768\n"
     ]
    }
   ],
   "source": [
    "tup = 1\n",
    "print(id(tup))\n",
    "\n",
    "def call_by_val(tup):\n",
    "    \"\"\"Call By Value\"\"\"\n",
    "    print(id(tup))\n",
    "    tup +=  2\n",
    "    print(\"Inside function\", tup)\n",
    "    print(id(tup))\n",
    "\n",
    "call_by_val(tup)\n",
    "print(\"Outside Function\",tup)\n",
    "print(id(tup))"
   ]
  },
  {
   "cell_type": "code",
   "execution_count": 17,
   "metadata": {},
   "outputs": [
    {
     "name": "stdout",
     "output_type": "stream",
     "text": [
      "2130449116680\n",
      "2130449116680\n",
      "Inside function [1, 2, 3, 4, 5, 6, [78, 98, 76], 66, 55, 44]\n",
      "2130449116680\n",
      "Outside Function [1, 2, 3, 4, 5, 6, [78, 98, 76], 66, 55, 44]\n",
      "2130449116680\n"
     ]
    }
   ],
   "source": [
    "tup = [1,2,3]\n",
    "print(id(tup))\n",
    "\n",
    "def call_by_ref(tup):\n",
    "    \"\"\"Call By Reference\"\"\"\n",
    "    print(id(tup))\n",
    "    tup += [4,5,6]\n",
    "    tup.append([78,98,76])\n",
    "    tup.extend([66,55,44])\n",
    "    print(\"Inside function\", tup)\n",
    "    print(id(tup))\n",
    "\n",
    "call_by_ref(tup)\n",
    "print(\"Outside Function\",tup)\n",
    "print(id(tup))"
   ]
  },
  {
   "cell_type": "code",
   "execution_count": null,
   "metadata": {},
   "outputs": [],
   "source": [
    "#Scope in python is different where if the we assign \"=\" same variable inside the function then a new variable of same name is created \n",
    "##whose scope is within function. That means we can read global variable inside function but cant access and read it as new variable with \n",
    "###same name will be created inside function\n",
    "\n",
    "#In order to access and modify global variable inside function use \"global\" keyword inside function\n",
    "\n"
   ]
  },
  {
   "cell_type": "code",
   "execution_count": 18,
   "metadata": {},
   "outputs": [
    {
     "name": "stdout",
     "output_type": "stream",
     "text": [
      "BEFORE 140728828072960\n",
      "initial addr inside funct 140728828072960\n",
      "VALUE INSIDE FUN 8\n",
      "AFTER 140728828072992\n",
      "Value Outside fun 7\n"
     ]
    }
   ],
   "source": [
    "\"Scope in Function\"\n",
    "x = 7\n",
    "\n",
    "def scope(x):\n",
    "    print(\"initial addr inside funct\", id(x))\n",
    "    x = 8\n",
    "    print(\"VALUE INSIDE FUN\", x)\n",
    "    print(\"AFTER\", id(x))\n",
    "    \n",
    "print(\"BEFORE\", id(x))\n",
    "scope(x)\n",
    "print(\"Value Outside fun\", x)"
   ]
  },
  {
   "cell_type": "code",
   "execution_count": 22,
   "metadata": {},
   "outputs": [
    {
     "name": "stdout",
     "output_type": "stream",
     "text": [
      "VALUE OUTSIDE FUN 7\n",
      "BEFORE 140728828072960\n",
      "BEFORE 140728828072992\n",
      "VALUE INSIDE FUN 8\n",
      "AFTER 140728828072992\n",
      "VALUE OUTSIDE FUN 8\n",
      "After 140728828072992\n"
     ]
    }
   ],
   "source": [
    "x = 7\n",
    "print(\"VALUE OUTSIDE FUN\", x)\n",
    "def scope(x1):\n",
    "    global x\n",
    "    print(\"BEFORE\", id(x1))   \n",
    "    x = x1\n",
    "    print(\"VALUE INSIDE FUN\", x)\n",
    "    print(\"AFTER\", id(x))\n",
    "    \n",
    "print(\"BEFORE\", id(x))\n",
    "scope(8)\n",
    "print(\"VALUE OUTSIDE FUN\", x)\n",
    "print(\"After\", id(x))"
   ]
  },
  {
   "cell_type": "code",
   "execution_count": 5,
   "metadata": {},
   "outputs": [
    {
     "name": "stdout",
     "output_type": "stream",
     "text": [
      "2\n",
      "3\n",
      "4\n",
      "5\n",
      "6\n",
      "7\n",
      "8\n",
      "9\n",
      "10\n",
      "11\n"
     ]
    }
   ],
   "source": [
    "\"Custom map\"\n",
    "def func(item):\n",
    "    return item+1\n",
    "\n",
    "list1 = [a for a in range(1,11)]\n",
    "for item in list1:\n",
    "    print(map(func,item))\n",
    "    def map(func,item):\n",
    "        return func(item)\n",
    "    \n",
    "\n",
    "   \n",
    "    "
   ]
  },
  {
   "cell_type": "code",
   "execution_count": 16,
   "metadata": {},
   "outputs": [
    {
     "data": {
      "text/plain": [
       "7"
      ]
     },
     "execution_count": 16,
     "metadata": {},
     "output_type": "execute_result"
    }
   ],
   "source": [
    "class Adder:\n",
    "    def __init__(self, n):\n",
    "         self.n = n\n",
    "    def __call__(self, x):\n",
    "        return self.n + x\n",
    "callable(Adder)\n",
    "b = Adder(3)\n",
    "b(4)"
   ]
  },
  {
   "cell_type": "code",
   "execution_count": 24,
   "metadata": {},
   "outputs": [
    {
     "name": "stdout",
     "output_type": "stream",
     "text": [
      "inside deco\n",
      "return wrapper\n",
      "Inside wrapper\n",
      "Something is happening before the function is called.\n",
      "Inside whee\n",
      "Whee!\n",
      "Something is happening after the function is called.\n"
     ]
    }
   ],
   "source": [
    "import time\n",
    "def my_decorator(func):\n",
    "    print(\"inside deco\")\n",
    "    def wrapper():\n",
    "        print(\"Inside wrapper\")\n",
    "        print(\"Something is happening before the function is called.\")\n",
    "        func()\n",
    "        print(\"Something is happening after the function is called.\")\n",
    "    print(\"return wrapper\")\n",
    "    return wrapper\n",
    "\n",
    "def say_whee():\n",
    "    print(\"Inside whee\")\n",
    "    print(\"Whee!\")\n",
    "\n",
    "say_whee = my_decorator(say_whee)\n",
    "\n",
    "say_whee()"
   ]
  },
  {
   "cell_type": "code",
   "execution_count": 21,
   "metadata": {},
   "outputs": [
    {
     "name": "stdout",
     "output_type": "stream",
     "text": [
      "2\n",
      "2\n",
      "12\n"
     ]
    }
   ],
   "source": [
    "#Default Keyword & Metod Overloading\n",
    "#Method overloading is possible when we use default keyword parameter in function definition\n",
    "\n",
    "def rectangle(l = 1, b = 2):\n",
    "    return l*b\n",
    "print(rectangle())\n",
    "print(rectangle(b = 2))\n",
    "print(rectangle(3,4))"
   ]
  },
  {
   "cell_type": "code",
   "execution_count": 11,
   "metadata": {},
   "outputs": [
    {
     "name": "stdout",
     "output_type": "stream",
     "text": [
      "Inside outer\n",
      "Inside outer\n",
      "<function out_func.<locals>.in_func at 0x000001546F0051E0>\n",
      "<function out_func.<locals>.in_func at 0x000001546F0052F0>\n",
      "1462151172576\n",
      "1462151172848\n",
      "Inside Inner\n",
      "Keval\n",
      "None\n",
      "Inside Inner\n",
      "Niku\n",
      "None\n"
     ]
    }
   ],
   "source": [
    "def out_func(msg):\n",
    "    print('Inside outer')\n",
    "    def in_func():\n",
    "        print('Inside Inner')\n",
    "        print(msg)\n",
    "    return in_func\n",
    "\n",
    "my_func1 = out_func('Keval')\n",
    "my_func2 = out_func('Niku')\n",
    "print(my_func1)\n",
    "print(my_func2)\n",
    "print(id(my_func1))\n",
    "print(id(my_func2))\n",
    "print(my_func1())\n",
    "print(my_func2())"
   ]
  },
  {
   "cell_type": "code",
   "execution_count": 23,
   "metadata": {},
   "outputs": [
    {
     "name": "stdout",
     "output_type": "stream",
     "text": [
      "Inside decorator\n",
      "Inside Wrapper\n",
      "Inside speak\n",
      "Keval\n",
      "None\n"
     ]
    }
   ],
   "source": [
    "def my_decorator(func):\n",
    "    print(\"Inside decorator\")\n",
    "    def my_wrapper(*args, **kwargs):\n",
    "        print(\"Inside Wrapper\")\n",
    "        return func(*args, **kwargs)         \n",
    "    return my_wrapper\n",
    "\n",
    "@my_decorator\n",
    "def speak(name):\n",
    "    print('Inside speak')\n",
    "    return print(name)\n",
    "\n",
    "hi = speak(\"Keval\")\n",
    "print(hi)\n",
    "        "
   ]
  }
 ],
 "metadata": {
  "kernelspec": {
   "display_name": "Python 3",
   "language": "python",
   "name": "python3"
  },
  "language_info": {
   "codemirror_mode": {
    "name": "ipython",
    "version": 3
   },
   "file_extension": ".py",
   "mimetype": "text/x-python",
   "name": "python",
   "nbconvert_exporter": "python",
   "pygments_lexer": "ipython3",
   "version": "3.7.3"
  }
 },
 "nbformat": 4,
 "nbformat_minor": 4
}
