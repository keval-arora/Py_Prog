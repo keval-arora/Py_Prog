{
 "cells": [
  {
   "cell_type": "code",
   "execution_count": 1,
   "metadata": {},
   "outputs": [
    {
     "name": "stdout",
     "output_type": "stream",
     "text": [
      "Hello\n",
      "my Name is Keval \n",
      "I work in Optum Tech\n",
      "<class 'str'>\n",
      "Hello\n",
      "\n",
      "<class 'str'>\n",
      "['Hello\\n', 'my Name is Keval \\n', 'I work in Optum Tech']\n",
      "<class 'list'>\n",
      "Hello\n",
      "my Name is Keval \n",
      "I work in Optum Tech\n"
     ]
    }
   ],
   "source": [
    "from pathlib import Path\n",
    "\n",
    "source_dir = Path(r'C:\\Users\\karora29\\Downloads\\Files')\n",
    "dest_dir = Path(r'C:\\Users\\karora29\\Documents\\Learning\\Python\\Py_Prog\\File Handling')\n",
    "sou_file = Path.joinpath(source_dir, 'dir_file.txt' ) \n",
    "des_file = Path.joinpath(dest_dir, 'wr_file.txt')\n",
    "\n",
    "if sou_file.exists() and sou_file.is_file():  \n",
    "    with open(sou_file, 'rt') as opened_file:\n",
    "        #if opened_file.readable()\n",
    "        read_lines = opened_file.read()\n",
    "        print(read_lines)\n",
    "        print(type(read_lines))\n",
    "        opened_file.seek(0)\n",
    "        read_lines = opened_file.readline()\n",
    "        print(read_lines)       \n",
    "        print(type(read_lines))\n",
    "        opened_file.seek(0)\n",
    "        read_lines = opened_file.readlines()\n",
    "        print(read_lines)\n",
    "        print(type(read_lines))\n",
    "        if isinstance(read_lines, str):\n",
    "            with open(des_file, 'wt') as write_file:\n",
    "                  write_file.write(read_lines.replace('Keval', 'Swati'))\n",
    "        else:\n",
    "            with open(des_file, 'wt+') as write_file:\n",
    "                abc = ''.join(read_lines)\n",
    "                print(abc)\n",
    "                write_file.write(abc.replace('Keval', 'Nitish'))\n",
    "                   \n",
    "            \n",
    "            \n",
    "            \n",
    "            \n",
    "#        print(read_lines)\n",
    "#         read_list = str(read_lines).split()\n",
    "#         for i in range(len(read_list)):\n",
    "#             if read_list[i] == 'Keval':\n",
    "#                 read_list[i] = 'Nitish'     \n",
    "       "
   ]
  },
  {
   "cell_type": "code",
   "execution_count": 8,
   "metadata": {},
   "outputs": [
    {
     "name": "stdout",
     "output_type": "stream",
     "text": [
      "<__main__.my_file_reader object at 0x0000024FF0A6F198>\n"
     ]
    }
   ],
   "source": [
    "from pathlib import Path\n",
    "\"\"\"Custom File reader class\"\"\"\n",
    "class my_file_reader():\n",
    "\n",
    "    def __init__(self,sou_file):\n",
    "        self.__path = sou_file\n",
    "        self.__file_object = None\n",
    "    def __enter__(self):\n",
    "        self.__file_object = open(self.__path)\n",
    "        return self\n",
    "    def __exit__(self,type,val, tb):\n",
    "        self.__file_object.close()\n",
    "        \n",
    "source_dir = Path(r'C:\\Users\\karora29\\Downloads\\Files')\n",
    "sou_file = Path.joinpath(source_dir, 'dir_file.txt' ) \n",
    "with my_file_reader(sou_file) as inp:\n",
    "    print(inp)"
   ]
  }
 ],
 "metadata": {
  "kernelspec": {
   "display_name": "Python 3",
   "language": "python",
   "name": "python3"
  },
  "language_info": {
   "codemirror_mode": {
    "name": "ipython",
    "version": 3
   },
   "file_extension": ".py",
   "mimetype": "text/x-python",
   "name": "python",
   "nbconvert_exporter": "python",
   "pygments_lexer": "ipython3",
   "version": "3.7.3"
  }
 },
 "nbformat": 4,
 "nbformat_minor": 4
}
