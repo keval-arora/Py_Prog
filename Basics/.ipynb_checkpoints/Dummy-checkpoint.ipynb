{
 "cells": [
  {
   "cell_type": "code",
   "execution_count": null,
   "metadata": {},
   "outputs": [],
   "source": [
    "def square(num):\n",
    "    \"This calc square\"\n",
    "    return num**2"
   ]
  },
  {
   "cell_type": "code",
   "execution_count": 1,
   "metadata": {},
   "outputs": [
    {
     "name": "stdout",
     "output_type": "stream",
     "text": [
      "(8+3j)\n",
      "True\n"
     ]
    }
   ],
   "source": [
    "# Output: (8+3j)\n",
    "c = 5 + 3j\n",
    "print(c + 3)\n",
    "\n",
    "# Output: True\n",
    "print(isinstance(c, complex))"
   ]
  },
  {
   "cell_type": "code",
   "execution_count": 7,
   "metadata": {},
   "outputs": [
    {
     "name": "stdout",
     "output_type": "stream",
     "text": [
      "140710810915648\n",
      "140710810915648\n",
      "140710810915648\n",
      "140710810915680\n"
     ]
    }
   ],
   "source": [
    "a = 1\n",
    "b = a\n",
    "print(id(a))\n",
    "print(id(b))\n",
    "b = 2\n",
    "print(id(a))\n",
    "print(id(b))"
   ]
  },
  {
   "cell_type": "code",
   "execution_count": 9,
   "metadata": {},
   "outputs": [
    {
     "name": "stdout",
     "output_type": "stream",
     "text": [
      "[1]\n",
      "[1]\n",
      "[1, 2]\n",
      "[1, 2]\n"
     ]
    }
   ],
   "source": [
    "a = [1]\n",
    "b=a\n",
    "print(a)\n",
    "print(b)\n",
    "\n",
    "b.append(2)\n",
    "print(a)\n",
    "print(b)"
   ]
  },
  {
   "cell_type": "code",
   "execution_count": null,
   "metadata": {},
   "outputs": [],
   "source": [
    "square?"
   ]
  },
  {
   "cell_type": "code",
   "execution_count": 1,
   "metadata": {},
   "outputs": [
    {
     "name": "stdout",
     "output_type": "stream",
     "text": [
      "140711349293888\n",
      "140711349293888\n"
     ]
    }
   ],
   "source": [
    "d = 1\n",
    "b = 1\n",
    "print(id(d))\n",
    "print(id(b))"
   ]
  },
  {
   "cell_type": "code",
   "execution_count": 1,
   "metadata": {},
   "outputs": [
    {
     "name": "stdout",
     "output_type": "stream",
     "text": [
      "2083395950280\n",
      "2083395950280\n",
      "[1, 2, 3]\n",
      "2083395950280\n",
      "[1, 2, 3, 3, 4]\n",
      "[1, 2, 3, 3, 4]\n"
     ]
    }
   ],
   "source": [
    "l1 = [1,2,3]\n",
    "l2 = l1\n",
    "print(id(l1))\n",
    "print(id(l2))\n",
    "print(l2)\n",
    "l2 += [3,4]\n",
    "print(id(l2))\n",
    "print(l2)\n",
    "print(l1)"
   ]
  },
  {
   "cell_type": "code",
   "execution_count": 20,
   "metadata": {},
   "outputs": [
    {
     "name": "stdout",
     "output_type": "stream",
     "text": [
      "2018106739792\n",
      "2018106739792\n",
      "2018105619464\n"
     ]
    }
   ],
   "source": [
    "tuple1 =('red',)\n",
    "tuple2 = tuple1\n",
    "print(id(tuple1))\n",
    "print(id(tuple2))\n",
    "tuple2 += ('blue',)\n",
    "print(id(tuple2))\n"
   ]
  },
  {
   "cell_type": "code",
   "execution_count": 22,
   "metadata": {},
   "outputs": [
    {
     "name": "stdout",
     "output_type": "stream",
     "text": [
      "10 20 30\n"
     ]
    }
   ],
   "source": [
    "num1, num2, num3 = range(10,40,10)\n",
    "print(num1, num2, num3)"
   ]
  },
  {
   "cell_type": "code",
   "execution_count": 23,
   "metadata": {},
   "outputs": [
    {
     "name": "stdout",
     "output_type": "stream",
     "text": [
      "2\n",
      "1\n"
     ]
    }
   ],
   "source": [
    "num1 = 1\n",
    "num2 =2\n",
    "num1, num2 =(num2,num1)\n",
    "print(num1)\n",
    "print(num2)"
   ]
  },
  {
   "cell_type": "code",
   "execution_count": 25,
   "metadata": {},
   "outputs": [
    {
     "name": "stdout",
     "output_type": "stream",
     "text": [
      "1\n",
      "1\n"
     ]
    }
   ],
   "source": [
    "num1 = 1\n",
    "num2 = 2\n",
    "num2 = num1\n",
    "print(num1)\n",
    "print(num2)"
   ]
  },
  {
   "cell_type": "code",
   "execution_count": 1,
   "metadata": {},
   "outputs": [
    {
     "name": "stdout",
     "output_type": "stream",
     "text": [
      "1352843670344\n",
      "1352843670280\n",
      "140735021290304\n",
      "140735021290304\n"
     ]
    }
   ],
   "source": [
    "list1 = [1,2,3,4,5,6]\n",
    "list2 = list1[:]\n",
    "print(id(list1))\n",
    "print(id(list2))\n",
    "print(id(list1[0]))\n",
    "print(id(list2[0]))"
   ]
  },
  {
   "cell_type": "code",
   "execution_count": 21,
   "metadata": {},
   "outputs": [
    {
     "name": "stdout",
     "output_type": "stream",
     "text": [
      "False\n",
      "1352845178056\n",
      "1352844432136\n",
      "True\n",
      "1352844432136\n",
      "1352845178056\n"
     ]
    }
   ],
   "source": [
    "y3 = [1,2,3]\n",
    "y4 = [1,2,3]\n",
    "print(y3 is y4)\n",
    "print(id(y3))\n",
    "print(id(y4))\n",
    "y5 = y3\n",
    "y3 = y4\n",
    "print(y3 is y4)\n",
    "print(id(y3))\n",
    "print(id(y5))\n"
   ]
  },
  {
   "cell_type": "code",
   "execution_count": 10,
   "metadata": {},
   "outputs": [
    {
     "ename": "TypeError",
     "evalue": "'generator' object is not subscriptable",
     "output_type": "error",
     "traceback": [
      "\u001b[1;31m---------------------------------------------------------------------------\u001b[0m",
      "\u001b[1;31mTypeError\u001b[0m                                 Traceback (most recent call last)",
      "\u001b[1;32m<ipython-input-10-e7af467e0481>\u001b[0m in \u001b[0;36m<module>\u001b[1;34m\u001b[0m\n\u001b[0;32m     29\u001b[0m \u001b[1;33m\u001b[0m\u001b[0m\n\u001b[0;32m     30\u001b[0m \u001b[0mhashing\u001b[0m \u001b[1;33m=\u001b[0m \u001b[0mHashTable\u001b[0m\u001b[1;33m(\u001b[0m\u001b[1;36m20\u001b[0m\u001b[1;33m)\u001b[0m\u001b[1;33m\u001b[0m\u001b[1;33m\u001b[0m\u001b[0m\n\u001b[1;32m---> 31\u001b[1;33m \u001b[0mhashing\u001b[0m\u001b[1;33m.\u001b[0m\u001b[0mset_val\u001b[0m\u001b[1;33m(\u001b[0m\u001b[1;34m\"USA\"\u001b[0m\u001b[1;33m,\u001b[0m \u001b[1;34m'us'\u001b[0m\u001b[1;33m)\u001b[0m\u001b[1;33m\u001b[0m\u001b[1;33m\u001b[0m\u001b[0m\n\u001b[0m\u001b[0;32m     32\u001b[0m \u001b[0mhashing\u001b[0m\u001b[1;33m.\u001b[0m\u001b[0mset_val\u001b[0m\u001b[1;33m(\u001b[0m\u001b[1;34m\"INDIA\"\u001b[0m\u001b[1;33m,\u001b[0m \u001b[1;34m'in'\u001b[0m\u001b[1;33m)\u001b[0m\u001b[1;33m\u001b[0m\u001b[1;33m\u001b[0m\u001b[0m\n\u001b[0;32m     33\u001b[0m \u001b[0mprint\u001b[0m\u001b[1;33m(\u001b[0m\u001b[0mhashing\u001b[0m\u001b[1;33m)\u001b[0m\u001b[1;33m\u001b[0m\u001b[1;33m\u001b[0m\u001b[0m\n",
      "\u001b[1;32m<ipython-input-10-e7af467e0481>\u001b[0m in \u001b[0;36mset_val\u001b[1;34m(self, key, value)\u001b[0m\n\u001b[0;32m     10\u001b[0m     \u001b[1;32mdef\u001b[0m \u001b[0mset_val\u001b[0m\u001b[1;33m(\u001b[0m\u001b[0mself\u001b[0m\u001b[1;33m,\u001b[0m\u001b[0mkey\u001b[0m\u001b[1;33m,\u001b[0m\u001b[0mvalue\u001b[0m\u001b[1;33m)\u001b[0m\u001b[1;33m:\u001b[0m\u001b[1;33m\u001b[0m\u001b[1;33m\u001b[0m\u001b[0m\n\u001b[0;32m     11\u001b[0m         \u001b[0mhashed_index\u001b[0m \u001b[1;33m=\u001b[0m \u001b[0mhash\u001b[0m\u001b[1;33m(\u001b[0m\u001b[0mkey\u001b[0m\u001b[1;33m)\u001b[0m\u001b[1;33m%\u001b[0m\u001b[0mself\u001b[0m\u001b[1;33m.\u001b[0m\u001b[0mtable_size\u001b[0m\u001b[1;33m\u001b[0m\u001b[1;33m\u001b[0m\u001b[0m\n\u001b[1;32m---> 12\u001b[1;33m         \u001b[0mhash_bucket\u001b[0m \u001b[1;33m=\u001b[0m \u001b[0mself\u001b[0m\u001b[1;33m.\u001b[0m\u001b[0mhash_map\u001b[0m\u001b[1;33m[\u001b[0m\u001b[0mhashed_index\u001b[0m\u001b[1;33m]\u001b[0m\u001b[1;33m\u001b[0m\u001b[1;33m\u001b[0m\u001b[0m\n\u001b[0m\u001b[0;32m     13\u001b[0m         \u001b[0mfound_key\u001b[0m \u001b[1;33m=\u001b[0m\u001b[1;32mFalse\u001b[0m\u001b[1;33m\u001b[0m\u001b[1;33m\u001b[0m\u001b[0m\n\u001b[0;32m     14\u001b[0m         \u001b[1;32mfor\u001b[0m \u001b[0mindex\u001b[0m\u001b[1;33m,\u001b[0m \u001b[0mrecord\u001b[0m \u001b[1;32min\u001b[0m \u001b[0menumerate\u001b[0m\u001b[1;33m(\u001b[0m\u001b[0mhash_bucket\u001b[0m\u001b[1;33m)\u001b[0m\u001b[1;33m:\u001b[0m\u001b[1;33m\u001b[0m\u001b[1;33m\u001b[0m\u001b[0m\n",
      "\u001b[1;31mTypeError\u001b[0m: 'generator' object is not subscriptable"
     ]
    }
   ],
   "source": [
    "class HashTable():\n",
    "    def __init__(self,size):\n",
    "        self.table_size = size\n",
    "        self.hash_map = self.create_bucket()\n",
    "        \n",
    "            \n",
    "    def create_bucket(self):\n",
    "        return ([]for _ in range(self.table_size))\n",
    "   \n",
    "    def set_val(self,key,value):\n",
    "        hashed_index = hash(key)%self.table_size\n",
    "        hash_bucket = self.hash_map[hashed_index]\n",
    "        found_key =False\n",
    "        for index, record in enumerate(hash_bucket):\n",
    "            hash_key, hash_val = record\n",
    "            if key == hash_key:\n",
    "                found_key = True\n",
    "                break\n",
    "        if found_key:\n",
    "            hash_bucket.insert(index,(key,value))\n",
    "        else:\n",
    "            hash_bucket.append(index,(key,value))\n",
    "    def get_val(self,key):\n",
    "        pass\n",
    "    def __str__(self):\n",
    "        return \"\".join(str(item) for item in self.hash_map)\n",
    "    \n",
    "    \n",
    "    \n",
    "hashing = HashTable(20)\n",
    "hashing.set_val(\"USA\", 'us')\n",
    "hashing.set_val(\"INDIA\", 'in')\n",
    "print(hashing)    \n",
    "   \n"
   ]
  }
 ],
 "metadata": {
  "kernelspec": {
   "display_name": "Python 3",
   "language": "python",
   "name": "python3"
  },
  "language_info": {
   "codemirror_mode": {
    "name": "ipython",
    "version": 3
   },
   "file_extension": ".py",
   "mimetype": "text/x-python",
   "name": "python",
   "nbconvert_exporter": "python",
   "pygments_lexer": "ipython3",
   "version": "3.7.3"
  }
 },
 "nbformat": 4,
 "nbformat_minor": 4
}
