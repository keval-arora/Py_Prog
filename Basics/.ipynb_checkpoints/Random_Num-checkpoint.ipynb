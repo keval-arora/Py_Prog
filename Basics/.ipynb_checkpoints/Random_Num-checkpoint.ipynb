{
 "cells": [
  {
   "cell_type": "code",
   "execution_count": null,
   "metadata": {},
   "outputs": [],
   "source": [
    "import random"
   ]
  },
  {
   "cell_type": "code",
   "execution_count": null,
   "metadata": {},
   "outputs": [],
   "source": [
    "random.seed(31)\n",
    "for roll in range(10):\n",
    "    print(random.randrange(1,7), end =' ')\n",
    "    "
   ]
  },
  {
   "cell_type": "code",
   "execution_count": null,
   "metadata": {},
   "outputs": [],
   "source": [
    "for roll in range(10):\n",
    "    print(random.randrange(1,7), end =' ')"
   ]
  },
  {
   "cell_type": "code",
   "execution_count": null,
   "metadata": {},
   "outputs": [],
   "source": [
    "random.seed(31)"
   ]
  },
  {
   "cell_type": "code",
   "execution_count": null,
   "metadata": {},
   "outputs": [],
   "source": [
    "for roll in range(10):\n",
    "    print(random.randrange(1,7), end =' ')"
   ]
  },
  {
   "cell_type": "code",
   "execution_count": null,
   "metadata": {},
   "outputs": [],
   "source": [
    "for roll in range(10):\n",
    "    print(random.randrange(1,7), end =' ')"
   ]
  },
  {
   "cell_type": "code",
   "execution_count": null,
   "metadata": {},
   "outputs": [],
   "source": [
    "\"Dice Frequency Calculator\"\n",
    "import random\n",
    "def randomnum(range_len):\n",
    "    freq1 = 0\n",
    "    freq2 = 0\n",
    "    freq3 = 0\n",
    "    freq4 = 0\n",
    "    freq5 = 0\n",
    "    freq6 = 0\n",
    "    for num in range(range_len):\n",
    "        freq = random.randrange(1,7)\n",
    "        if freq == 1:\n",
    "            freq1 += 1\n",
    "        elif freq == 2:\n",
    "            freq2 += 1\n",
    "        elif freq == 3:\n",
    "            freq3 += 1\n",
    "        elif freq == 4:\n",
    "            freq4 += 1\n",
    "        elif freq == 5:\n",
    "            freq5 += 1\n",
    "        else:\n",
    "            freq6 += 1\n",
    "    print(\"Showing data for \", range_len, \" Time Roll\")\n",
    "    print(f'Face{\"Frequency\":>13}')\n",
    "    print(f'{1:>4}{freq1:>13}')\n",
    "    print(f'{2:>4}{freq2:>13}')\n",
    "    print(f'{3:>4}{freq3:>13}')\n",
    "    print(f'{4:>4}{freq4:>13}')\n",
    "    print(f'{5:>4}{freq5:>13}')\n",
    "    print(f'{6:>4}{freq6:>13}') \n",
    "\n",
    "length = int(input(\"Enter the number of times you want to roll a die\"))\n",
    "\n",
    "while length != 0:       \n",
    "    if length > 0:\n",
    "          randomnum(length)\n",
    "          length = int(input(\"Enter the number of times you want to roll a die. Press 0 to terminate\"))\n",
    "    else:\n",
    "          print(\"Please enter a valid number\")\n",
    "print(\"Program Terminated\")\n",
    "\n"
   ]
  },
  {
   "cell_type": "code",
   "execution_count": null,
   "metadata": {},
   "outputs": [],
   "source": []
  }
 ],
 "metadata": {
  "kernelspec": {
   "display_name": "Python 3",
   "language": "python",
   "name": "python3"
  },
  "language_info": {
   "codemirror_mode": {
    "name": "ipython",
    "version": 3
   },
   "file_extension": ".py",
   "mimetype": "text/x-python",
   "name": "python",
   "nbconvert_exporter": "python",
   "pygments_lexer": "ipython3",
   "version": "3.7.3"
  }
 },
 "nbformat": 4,
 "nbformat_minor": 2
}
