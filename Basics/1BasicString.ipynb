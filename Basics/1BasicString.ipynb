{
 "cells": [
  {
   "cell_type": "code",
   "execution_count": 3,
   "metadata": {},
   "outputs": [
    {
     "name": "stdout",
     "output_type": "stream",
     "text": [
      "Hello World\n",
      "HELLO WORLD\n",
      "hello world\n"
     ]
    },
    {
     "data": {
      "text/plain": [
       "str"
      ]
     },
     "execution_count": 3,
     "metadata": {},
     "output_type": "execute_result"
    }
   ],
   "source": [
    "# Printing upper, lower, title case\n",
    "#*****************************\n",
    "message = 'Hello world'\n",
    "print(message.title())\n",
    "print(message.upper()) \n",
    "print(message.lower())\n",
    "type(message)\n",
    "#******************************\n",
    "#Notes:- \n",
    "# Assignment is done from right to left.\n",
    "# In Python, all the values, are object in itself.\n",
    "# Python is dynamically typed i.e type of the variables like message is decided during assignment of value.\n",
    "# Here 'message' variable refers to an object which has 'Hello world' string sequence in it.\n",
    "# Python has provided predefined methods like title(), upper(), lower(), for string manupulation.\n",
    "# Calling a method: Object_Name.Method_Name().\n",
    "# Here print() and type() are the methods which displays the output and current datatype of the variable respectively."
   ]
  },
  {
   "cell_type": "code",
   "execution_count": 2,
   "metadata": {},
   "outputs": [
    {
     "name": "stdout",
     "output_type": "stream",
     "text": [
      "\tHello world\t\n",
      "Hello world\t\n",
      "\tHello world\n",
      "Hello world\n"
     ]
    }
   ],
   "source": [
    "# Whitespaces in String\n",
    "#************************************************************\n",
    "message = '\\tHello world\\t'\n",
    "print(message)\n",
    "print(message.lstrip())\n",
    "print(message.rstrip())\n",
    "print(message.strip())\n",
    "#************************************************************\n",
    "#Notes:-\n",
    "# For Python, 'python' and 'python ' are different objects. one without and other with extra space.\n",
    "# rstrip(), lstrip(), strip is used to ensure no spaces exists on the right, left, both sides of the string"
   ]
  },
  {
   "cell_type": "code",
   "execution_count": null,
   "metadata": {},
   "outputs": [],
   "source": []
  }
 ],
 "metadata": {
  "kernelspec": {
   "display_name": "Python 3",
   "language": "python",
   "name": "python3"
  },
  "language_info": {
   "codemirror_mode": {
    "name": "ipython",
    "version": 3
   },
   "file_extension": ".py",
   "mimetype": "text/x-python",
   "name": "python",
   "nbconvert_exporter": "python",
   "pygments_lexer": "ipython3",
   "version": "3.7.3"
  }
 },
 "nbformat": 4,
 "nbformat_minor": 2
}
