{
 "cells": [
  {
   "cell_type": "code",
   "execution_count": 9,
   "metadata": {},
   "outputs": [
    {
     "name": "stdout",
     "output_type": "stream",
     "text": [
      "['My', 'Name', 'is', 'Keval', 'Arora', 'My', 'Name', 'is', 'Nikhil', 'Arora']\n",
      "{'My': 2, 'Name': 2, 'is': 2, 'Keval': 1, 'Arora': 2, 'Nikhil': 1}\n"
     ]
    }
   ],
   "source": [
    "\"\"\"\"Word Counting using Dictionary\"\"\"\n",
    "text_letters = ('My Name is Keval Arora ' \n",
    "                'My Name is Nikhil Arora')\n",
    "\n",
    "print(text_letters.split())\n",
    "word_count = {}\n",
    "for key in text_letters.split():\n",
    "    if key in word_count:\n",
    "        word_count[key] += 1\n",
    "    else:\n",
    "        word_count[key] = 1\n",
    "print(word_count)\n",
    "\n",
    "        \n"
   ]
  },
  {
   "cell_type": "code",
   "execution_count": 10,
   "metadata": {},
   "outputs": [
    {
     "name": "stdout",
     "output_type": "stream",
     "text": [
      "dict_items([('My', 2), ('Name', 2), ('is', 2), ('Keval', 1), ('Arora', 2), ('Nikhil', 1)])\n"
     ]
    }
   ],
   "source": [
    "\"\"\"Counting using Counter Class in COllectio module\"\"\"\n",
    "from collections import Counter as Count\n",
    "\n",
    "counting = Count(text_letters.split())\n",
    "print(counting.items())"
   ]
  }
 ],
 "metadata": {
  "kernelspec": {
   "display_name": "Python 3",
   "language": "python",
   "name": "python3"
  },
  "language_info": {
   "codemirror_mode": {
    "name": "ipython",
    "version": 3
   },
   "file_extension": ".py",
   "mimetype": "text/x-python",
   "name": "python",
   "nbconvert_exporter": "python",
   "pygments_lexer": "ipython3",
   "version": "3.7.3"
  }
 },
 "nbformat": 4,
 "nbformat_minor": 2
}
