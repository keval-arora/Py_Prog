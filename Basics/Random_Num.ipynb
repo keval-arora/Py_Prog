{
 "cells": [
  {
   "cell_type": "code",
   "execution_count": 17,
   "metadata": {},
   "outputs": [],
   "source": [
    "import random"
   ]
  },
  {
   "cell_type": "code",
   "execution_count": 16,
   "metadata": {},
   "outputs": [
    {
     "name": "stdout",
     "output_type": "stream",
     "text": [
      "1 4 1 4 2 6 1 2 1 5 "
     ]
    }
   ],
   "source": [
    "import random\n",
    "random.seed(31)\n",
    "for _ in range(10):\n",
    "    print(random.randrange(1,7), end =' ')\n",
    "    "
   ]
  },
  {
   "cell_type": "code",
   "execution_count": 18,
   "metadata": {},
   "outputs": [
    {
     "name": "stdout",
     "output_type": "stream",
     "text": [
      "2 6 2 2 6 1 6 1 2 2 "
     ]
    }
   ],
   "source": [
    "for roll in range(10):\n",
    "    print(random.randrange(1,7), end =' ')"
   ]
  },
  {
   "cell_type": "code",
   "execution_count": 19,
   "metadata": {},
   "outputs": [],
   "source": [
    "random.seed(31)"
   ]
  },
  {
   "cell_type": "code",
   "execution_count": 20,
   "metadata": {},
   "outputs": [
    {
     "name": "stdout",
     "output_type": "stream",
     "text": [
      "1 4 1 4 2 6 1 2 1 5 "
     ]
    }
   ],
   "source": [
    "for roll in range(10):\n",
    "    print(random.randrange(1,7), end =' ')"
   ]
  },
  {
   "cell_type": "code",
   "execution_count": null,
   "metadata": {},
   "outputs": [],
   "source": [
    "for roll in range(10):\n",
    "    print(random.randrange(1,7), end =' ')"
   ]
  },
  {
   "cell_type": "code",
   "execution_count": 2,
   "metadata": {},
   "outputs": [
    {
     "name": "stdin",
     "output_type": "stream",
     "text": [
      "Enter the number of times you want to roll a die.Press 0 to terminate 2\n"
     ]
    },
    {
     "name": "stdout",
     "output_type": "stream",
     "text": [
      "Showing data for  2  Time Roll\n",
      "Face    Frequency\n",
      "   1            0\n",
      "   2            0\n",
      "   3            0\n",
      "   4            2\n",
      "   5            0\n",
      "   6            0\n"
     ]
    },
    {
     "name": "stdin",
     "output_type": "stream",
     "text": [
      "Enter the number of times you want to roll a die. Press 0 to terminate 3000\n"
     ]
    },
    {
     "name": "stdout",
     "output_type": "stream",
     "text": [
      "Showing data for  3000  Time Roll\n",
      "Face    Frequency\n",
      "   1          536\n",
      "   2          496\n",
      "   3          460\n",
      "   4          512\n",
      "   5          495\n",
      "   6          501\n"
     ]
    },
    {
     "name": "stdin",
     "output_type": "stream",
     "text": [
      "Enter the number of times you want to roll a die. Press 0 to terminate 40000\n"
     ]
    },
    {
     "name": "stdout",
     "output_type": "stream",
     "text": [
      "Showing data for  40000  Time Roll\n",
      "Face    Frequency\n",
      "   1         6731\n",
      "   2         6596\n",
      "   3         6757\n",
      "   4         6706\n",
      "   5         6683\n",
      "   6         6527\n"
     ]
    },
    {
     "name": "stdin",
     "output_type": "stream",
     "text": [
      "Enter the number of times you want to roll a die. Press 0 to terminate 6000000\n"
     ]
    },
    {
     "name": "stdout",
     "output_type": "stream",
     "text": [
      "Showing data for  6000000  Time Roll\n",
      "Face    Frequency\n",
      "   1      1001075\n",
      "   2      1000475\n",
      "   3       998434\n",
      "   4       999655\n",
      "   5      1000369\n",
      "   6       999992\n"
     ]
    },
    {
     "name": "stdin",
     "output_type": "stream",
     "text": [
      "Enter the number of times you want to roll a die. Press 0 to terminate 0\n"
     ]
    },
    {
     "name": "stdout",
     "output_type": "stream",
     "text": [
      "Program Terminated\n"
     ]
    }
   ],
   "source": [
    "\"Dice Frequency Calculator\"\n",
    "import random\n",
    "def randomnum(range_len):\n",
    "    freq1 = 0\n",
    "    freq2 = 0\n",
    "    freq3 = 0\n",
    "    freq4 = 0\n",
    "    freq5 = 0\n",
    "    freq6 = 0\n",
    "    for num in range(range_len):\n",
    "        numb = random.randrange(1,7)\n",
    "        if numb == 1:\n",
    "            freq1 += 1\n",
    "        elif numb == 2:\n",
    "            freq2 += 1\n",
    "        elif numb == 3:\n",
    "            freq3 += 1\n",
    "        elif numb == 4:\n",
    "            freq4 += 1\n",
    "        elif numb == 5:\n",
    "            freq5 += 1\n",
    "        else:\n",
    "            freq6 += 1\n",
    "    print(\"Showing data for \", range_len, \" Time Roll\")\n",
    "    print(f'Face{\"Frequency\":>13}')\n",
    "    print(f'{1:>4}{freq1:>13}')\n",
    "    print(f'{2:>4}{freq2:>13}')\n",
    "    print(f'{3:>4}{freq3:>13}')\n",
    "    print(f'{4:>4}{freq4:>13}')\n",
    "    print(f'{5:>4}{freq5:>13}')\n",
    "    print(f'{6:>4}{freq6:>13}') \n",
    "\n",
    "length = int(input(\"Enter the number of times you want to roll a die.Press 0 to terminate\"))\n",
    "\n",
    "while length != 0:       \n",
    "    if length > 0:\n",
    "          randomnum(length)\n",
    "          length = int(input(\"Enter the number of times you want to roll a die. Press 0 to terminate\"))\n",
    "    else:\n",
    "          print(\"Please enter a valid number\")\n",
    "print(\"Program Terminated\")\n",
    "\n"
   ]
  },
  {
   "cell_type": "code",
   "execution_count": null,
   "metadata": {},
   "outputs": [],
   "source": []
  }
 ],
 "metadata": {
  "kernelspec": {
   "display_name": "Python 3",
   "language": "python",
   "name": "python3"
  },
  "language_info": {
   "codemirror_mode": {
    "name": "ipython",
    "version": 3
   },
   "file_extension": ".py",
   "mimetype": "text/x-python",
   "name": "python",
   "nbconvert_exporter": "python",
   "pygments_lexer": "ipython3",
   "version": "3.7.3"
  }
 },
 "nbformat": 4,
 "nbformat_minor": 4
}
