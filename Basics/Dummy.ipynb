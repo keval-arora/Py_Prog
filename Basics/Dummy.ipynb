{
 "cells": [
  {
   "cell_type": "code",
   "execution_count": null,
   "metadata": {},
   "outputs": [],
   "source": [
    "def square(num):\n",
    "    \"This calc square\"\n",
    "    return num**2"
   ]
  },
  {
   "cell_type": "code",
   "execution_count": null,
   "metadata": {},
   "outputs": [],
   "source": [
    "# Output: (8+3j)\n",
    "c = 5 + 3j\n",
    "print(c + 3)\n",
    "\n",
    "# Output: True\n",
    "print(isinstance(c, complex))"
   ]
  },
  {
   "cell_type": "code",
   "execution_count": 1,
   "metadata": {},
   "outputs": [
    {
     "name": "stdout",
     "output_type": "stream",
     "text": [
      "140715436839744\n",
      "140715436839744\n",
      "140715436839744\n",
      "140715436839776\n"
     ]
    }
   ],
   "source": [
    "a = 1\n",
    "b = a\n",
    "print(id(a))\n",
    "print(id(b))\n",
    "b = 2\n",
    "print(id(a))\n",
    "print(id(b))"
   ]
  },
  {
   "cell_type": "code",
   "execution_count": 2,
   "metadata": {},
   "outputs": [
    {
     "name": "stdout",
     "output_type": "stream",
     "text": [
      "[1]\n",
      "[1]\n",
      "[1, 2]\n",
      "[1, 2]\n"
     ]
    }
   ],
   "source": [
    "a = [1]\n",
    "b=a\n",
    "print(a)\n",
    "print(b)\n",
    "\n",
    "b.append(2)\n",
    "print(a)\n",
    "print(b)"
   ]
  },
  {
   "cell_type": "code",
   "execution_count": 3,
   "metadata": {},
   "outputs": [
    {
     "name": "stdout",
     "output_type": "stream",
     "text": [
      "Object `square` not found.\n"
     ]
    }
   ],
   "source": [
    "square?"
   ]
  },
  {
   "cell_type": "code",
   "execution_count": 4,
   "metadata": {},
   "outputs": [
    {
     "name": "stdout",
     "output_type": "stream",
     "text": [
      "140715436839744\n",
      "140715436839744\n"
     ]
    }
   ],
   "source": [
    "d = 1\n",
    "b = 1\n",
    "print(id(d))\n",
    "print(id(b))"
   ]
  },
  {
   "cell_type": "code",
   "execution_count": 5,
   "metadata": {},
   "outputs": [
    {
     "name": "stdout",
     "output_type": "stream",
     "text": [
      "2850521538760\n",
      "2850521538760\n",
      "[1, 2, 3]\n",
      "2850521538760\n",
      "[1, 2, 3, 3, 4]\n",
      "[1, 2, 3, 3, 4]\n"
     ]
    }
   ],
   "source": [
    "l1 = [1,2,3]\n",
    "l2 = l1\n",
    "print(id(l1))\n",
    "print(id(l2))\n",
    "print(l2)\n",
    "l2 += [3,4]\n",
    "print(id(l2))\n",
    "print(l2)\n",
    "print(l1)"
   ]
  },
  {
   "cell_type": "code",
   "execution_count": 6,
   "metadata": {},
   "outputs": [
    {
     "name": "stdout",
     "output_type": "stream",
     "text": [
      "2850521686368\n",
      "2850521686368\n",
      "2850521867272\n"
     ]
    }
   ],
   "source": [
    "tuple1 =('red',)\n",
    "tuple2 = tuple1\n",
    "print(id(tuple1))\n",
    "print(id(tuple2))\n",
    "tuple2 += ('blue',)\n",
    "print(id(tuple2))\n"
   ]
  },
  {
   "cell_type": "code",
   "execution_count": 30,
   "metadata": {},
   "outputs": [
    {
     "name": "stdout",
     "output_type": "stream",
     "text": [
      "10 20 30\n"
     ]
    }
   ],
   "source": [
    "num1, num2, num3 = range(10,40,10)\n",
    "print(num1, num2, num3)\n"
   ]
  },
  {
   "cell_type": "code",
   "execution_count": 31,
   "metadata": {},
   "outputs": [
    {
     "name": "stdout",
     "output_type": "stream",
     "text": [
      "2\n",
      "1\n"
     ]
    }
   ],
   "source": [
    "num1 = 1\n",
    "num2 =2\n",
    "num1, num2 =(num2,num1)\n",
    "print(num1)\n",
    "print(num2)"
   ]
  },
  {
   "cell_type": "code",
   "execution_count": 32,
   "metadata": {},
   "outputs": [
    {
     "name": "stdout",
     "output_type": "stream",
     "text": [
      "1\n",
      "1\n"
     ]
    }
   ],
   "source": [
    "num1 = 1\n",
    "num2 = 2\n",
    "num2 = num1\n",
    "print(num1)\n",
    "print(num2)"
   ]
  },
  {
   "cell_type": "code",
   "execution_count": 33,
   "metadata": {},
   "outputs": [
    {
     "name": "stdout",
     "output_type": "stream",
     "text": [
      "2850522185480\n",
      "2850522289224\n",
      "140715436839744\n",
      "140715436839744\n"
     ]
    }
   ],
   "source": [
    "list1 = [1,2,3,4,5,6]\n",
    "list2 = list1[:]\n",
    "print(id(list1))\n",
    "print(id(list2))\n",
    "print(id(list1[0]))\n",
    "print(id(list2[0]))"
   ]
  },
  {
   "cell_type": "code",
   "execution_count": 35,
   "metadata": {},
   "outputs": [
    {
     "name": "stdout",
     "output_type": "stream",
     "text": [
      "False\n",
      "2850522010376\n",
      "2850521954568\n",
      "False\n",
      "2850521954568\n",
      "2850522010376\n"
     ]
    }
   ],
   "source": [
    "y3 = [1,2,3]\n",
    "y4 = [1,2,3]\n",
    "print(y3 is y4)\n",
    "print(id(y3))\n",
    "print(id(y4))\n",
    "y5 = y3\n",
    "y3 = y4\n",
    "print(y3 is y5)\n",
    "print(id(y3))\n",
    "print(id(y5))\n"
   ]
  },
  {
   "cell_type": "code",
   "execution_count": null,
   "metadata": {},
   "outputs": [],
   "source": [
    "class HashTable():\n",
    "    def __init__(self,size):\n",
    "        self.table_size = size\n",
    "        self.hash_map = self.create_bucket()\n",
    "        \n",
    "            \n",
    "    def create_bucket(self):\n",
    "        return ([]for _ in range(self.table_size))\n",
    "   \n",
    "    def set_val(self,key,value):\n",
    "        hashed_index = hash(key)%self.table_size\n",
    "        hash_bucket = self.hash_map[hashed_index]\n",
    "        found_key =False\n",
    "        for index, record in enumerate(hash_bucket):\n",
    "            hash_key, hash_val = record\n",
    "            if key == hash_key:\n",
    "                found_key = True\n",
    "                break\n",
    "        if found_key:\n",
    "            hash_bucket.insert(index,(key,value))\n",
    "        else:\n",
    "            hash_bucket.append(index,(key,value))\n",
    "    def get_val(self,key):\n",
    "        pass\n",
    "    def __str__(self):\n",
    "        return \"\".join(str(item) for item in self.hash_map)\n",
    "    \n",
    "    \n",
    "    \n",
    "hashing = HashTable(20)\n",
    "hashing.set_val(\"USA\", 'us')\n",
    "hashing.set_val(\"INDIA\", 'in')\n",
    "print(hashing)    \n",
    "   \n"
   ]
  },
  {
   "cell_type": "code",
   "execution_count": 43,
   "metadata": {},
   "outputs": [
    {
     "data": {
      "text/plain": [
       "9"
      ]
     },
     "execution_count": 43,
     "metadata": {},
     "output_type": "execute_result"
    }
   ],
   "source": [
    "# (lambda x: x+1)(3)\n",
    "# def func(x):\n",
    "#     return x\n",
    "\n",
    "# func(9)\n",
    "func = lambda x:x\n",
    "func(9)"
   ]
  }
 ],
 "metadata": {
  "kernelspec": {
   "display_name": "Python 3",
   "language": "python",
   "name": "python3"
  },
  "language_info": {
   "codemirror_mode": {
    "name": "ipython",
    "version": 3
   },
   "file_extension": ".py",
   "mimetype": "text/x-python",
   "name": "python",
   "nbconvert_exporter": "python",
   "pygments_lexer": "ipython3",
   "version": "3.7.3"
  }
 },
 "nbformat": 4,
 "nbformat_minor": 4
}
