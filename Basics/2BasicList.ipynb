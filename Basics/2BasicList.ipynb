{
 "cells": [
  {
   "cell_type": "code",
   "execution_count": 2,
   "metadata": {},
   "outputs": [
    {
     "name": "stdout",
     "output_type": "stream",
     "text": [
      "['Keval', 'nikhil', 'rohin']\n",
      "['Keval', 'nikhil', 'rohin']\n",
      "Keval\n",
      "Keval\n",
      "Keval\n",
      "Rohin\n",
      "My name is KEVAL\n",
      "Keval\n"
     ]
    }
   ],
   "source": [
    "#Lists Basics\n",
    "#+++++++++++++++++++++++++++++++++++++++++++\n",
    "#List Creation and Access\n",
    "names = [ 'Keval', 'nikhil', 'rohin' ]\n",
    "a = names\n",
    "print(names)\n",
    "message = 'My name is ' + names[0].upper() \n",
    "print(names)\n",
    "print(names[0].title())\n",
    "bun = names[0].title()\n",
    "print(names[0])\n",
    "print(bun)\n",
    "print(names[-1].title())\n",
    "print(message)\n",
    "print(names[-3])\n",
    "#Notes:- \n",
    "# Lists are ordered mutable sequences, typically used to store collections of homogeneous objects.\n",
    "# Lists are created using square bracket and seperating each element by comma.\n",
    "# List elements are accessed using indexes where n is the number of elements.\n",
    "# Indexes can be positive starting from 0 to n-1. Where 0 is for the first element.\n",
    "# Indexes can be negative ending in -1 from -n. Where -1 is for the last element.\n",
    "# Indexes cant be float otherwise it will give TypeError.\n",
    "# If we access the element which exceeds the indexes then it will give IndexError "
   ]
  },
  {
   "cell_type": "code",
   "execution_count": 8,
   "metadata": {},
   "outputs": [
    {
     "name": "stdout",
     "output_type": "stream",
     "text": [
      "['keval', 'rohin', 'punit']\n",
      "[1, 100, 3, 100]\n",
      "['keval', 'punit', 'rohin']\n",
      "['rohin', 'punit', 'keval']\n",
      "['keval', 'punit', 'rohin']\n",
      "['rohin', 'punit', 'keval']\n",
      "['keval', 'punit', 'rohin']\n",
      "['rohin', 'punit', 'keval', 'raj']\n",
      "numbers are  [1, 2, 3, 5, 6]\n",
      "None\n",
      "['rohin', 'punit', 'keval', 'keval', 'raj']\n",
      "['rohin', 'punit', 'keval', 'raj']\n",
      "['rohin', 'punit', 'keval']\n",
      "['punit', 'keval']\n",
      "['punit']\n",
      "[1]\n",
      "[(0, 'red'), (1, 'blue'), (2, 'green')]\n",
      "((0, 'red'), (1, 'blue'), (2, 'green'))\n",
      "red blue green\n",
      "b\n",
      "a\n"
     ]
    }
   ],
   "source": [
    "#List Modification\n",
    "#+++++++++++++++++++++++++++++++++++++++++++\n",
    "names = [ 'keval', 'rohin', 'nikhil' ]\n",
    "\n",
    "#Replace_Element: \n",
    "#names[1] = 2\n",
    "names[-1] = 'punit'\n",
    "print(names)\n",
    "names6 = [1,2,3,4]\n",
    "names6[1::2] = [100,100] #Right side must be list\n",
    "print(names6)\n",
    "\n",
    "#Sort_Elements permanently\n",
    "names.sort()\n",
    "print(names)\n",
    "names.sort(reverse = True) #Reversing sort\n",
    "print(names)\n",
    "names.reverse()\n",
    "print(names)\n",
    "names = names[-1::-1]#Both side must be list\n",
    "print(names)\n",
    "\n",
    "#Sort_Elements temporarily\n",
    "print(sorted(names))\n",
    "\n",
    "\n",
    "#Append_Element(Value required):\n",
    "names.append('raj')\n",
    "print(names)\n",
    "roll_num = []\n",
    "roll_num.append(1)\n",
    "roll_num.append(2)\n",
    "roll_num.append(3)\n",
    "roll_num += [5,6]\n",
    "print('numbers are ', roll_num)\n",
    "\n",
    "#Extend list:\n",
    "bog = roll_num.extend([8,9])\n",
    "print(bog)\n",
    "\n",
    "\n",
    "#Insert_Elements(Indexand, Value required):\n",
    "names.insert(2, 'keval')\n",
    "print(names)\n",
    "\n",
    "#Remove_Element(Value required):\n",
    "names.remove('keval')\n",
    "print(names)\n",
    "\n",
    "#Popping_Elements(Index required):\n",
    "popped_names = names.pop() #popping last element\n",
    "print(names)\n",
    "popped_names2 = names.pop(0) #poppig indexed element\n",
    "print(names)\n",
    "\n",
    "\n",
    "#Deleting_Elements(Index required):\n",
    "del names[1]\n",
    "print(names)\n",
    "names = [1,3,5]\n",
    "names[1:3] = []\n",
    "print(names)\n",
    "\n",
    "#List_Length\n",
    "len(names)\n",
    "\n",
    "#List Enumerates\n",
    "col = ['red','blue','green']\n",
    "col3 = list(enumerate(col))\n",
    "print(col3)\n",
    "col4 =  tuple(enumerate(col))\n",
    "print(col4)\n",
    "\n",
    "#List Unpacking\n",
    "col0, col1, col2 = col\n",
    "print(col0, col1, col2)\n",
    "\n",
    "#Swaping using Tuple\n",
    "num1 = 'a'\n",
    "num2 = 'b'\n",
    "num1, num2 = (num2,num1)\n",
    "print(num1)\n",
    "print(num2)\n",
    "\n",
    "#Notes:\n",
    "#Elements in the list are modified dynamically.\n",
    "#List can be expanded or contracted using append, pop, insert, remove, del.\n",
    "# pop() method removes the last item in a list, but it lets you work with that item after removing it.\n",
    "# remove() method searches the value from the list which was given in its argument and then removes it.\n",
    "#sort() method is applicable for the list containing objects of same types\n",
    "#sort() method is applicable for the list elements with strings either all in lower/ all in upper case.\n",
    "#sorted(Arg) function temporarily sort and displays the elements in the list"
   ]
  },
  {
   "cell_type": "code",
   "execution_count": 4,
   "metadata": {},
   "outputs": [
    {
     "name": "stdout",
     "output_type": "stream",
     "text": [
      "golo\n",
      "molo\n",
      "bolo\n"
     ]
    },
    {
     "name": "stdin",
     "output_type": "stream",
     "text": [
      "enter a number 1\n",
      "enter a number 2\n",
      "enter a number 3\n",
      "enter a number 4\n",
      "enter a number 5\n"
     ]
    },
    {
     "name": "stdout",
     "output_type": "stream",
     "text": [
      "[1, 2, 3, 4, 5]\n",
      "[1, 3, 5, 7, 9]\n",
      "1\n",
      "9\n",
      "25\n",
      "[0, 1, 4, 9, 16, 25, 36, 49, 64, 81]\n",
      "[0, 1, 2, 3, 4]\n",
      "['molo', 'bolo']\n",
      "golo\n",
      "bolo\n",
      "['golo', 'molo', 'bolo', 'colo']\n",
      "['golo', 'molo', 'bolo']\n",
      "0 golo\n",
      "1 molo\n",
      "2 bolo\n",
      "3 colo\n",
      "20\n",
      "32\n",
      "56\n",
      "78\n",
      "98\n"
     ]
    }
   ],
   "source": [
    "#### Looping through lists\n",
    "#++++++++++++++++++++++++++++++++++++++++++++++++++++++++++\n",
    "#Simple List printing using loop\n",
    "names = ['golo' , 'molo' , 'bolo']\n",
    "for name in names:\n",
    "    print(name)\n",
    "\n",
    "#Taking input from user via empty List and counter range\n",
    "names = []\n",
    "for count in range(5): \n",
    "    names.append(int(input(\"enter a number\")))\n",
    "print(names)\n",
    "\n",
    "#Using list() function and range() function to Make a List of Numbers\n",
    "num_list = list(range(1,10,2))\n",
    "print(num_list)\n",
    "print(min(num_list))\n",
    "print(max(num_list))\n",
    "print(sum(num_list))\n",
    "\n",
    "#List Comprehensions\n",
    "num_list = [values**2 for values in range(10)]\n",
    "print(num_list)\n",
    "names = [a for a in range(5)]\n",
    "print(names)\n",
    "\n",
    "#Slicing a List\n",
    "names0 = ['golo' , 'molo' , 'bolo']\n",
    "names2 = names0[1:3]           \n",
    "print(names2)\n",
    "\n",
    "for names in names0[0:3:2]:\n",
    "    print(names)\n",
    "\n",
    "#Copying List\n",
    "names2 = names0[:]\n",
    "names2.append('colo')\n",
    "print(names2)\n",
    "print(names0)\n",
    "\n",
    "#Looping through Enumerate\n",
    "for index, value in enumerate(names2):\n",
    "    print(index, value)\n",
    "    \n",
    "#Generator Expression\n",
    "numbers = [1,20,32,43,56,78,98]\n",
    "for values in(x for x in numbers if x%2 == 0 ):\n",
    "    print(values)\n",
    "\n",
    "#Notes:-\n",
    "# For loop is used to perform same task on list multiple times\n",
    "# The body of the for loop will be executed once for one count\n",
    "# Unlike brackets, Python uses indentation to determine when one line of code is connected to the line above it.\n",
    "# The colon at the end of a for statement tells Python to interpret the next line as the start of a loop which is known as SUIT of code.\n",
    "# range(n,m,p) function is used to generate a series of numbers starting from value n to end value m-1(m=length) along with steps p.\n",
    "# list() function is used to generate list\n",
    "# Grouping of items in the list is known as SLICE.\n",
    "# Slicing list from starting to n+1"
   ]
  },
  {
   "cell_type": "code",
   "execution_count": null,
   "metadata": {},
   "outputs": [],
   "source": [
    "for count in range(5):\n",
    "    print(count)\n",
    "    \n",
    " "
   ]
  },
  {
   "cell_type": "code",
   "execution_count": 10,
   "metadata": {},
   "outputs": [
    {
     "name": "stdout",
     "output_type": "stream",
     "text": [
      "[0, 1, 4, 9, 16, 25, 36, 49, 64, 81]\n"
     ]
    }
   ],
   "source": [
    "val = []\n",
    "for count in range(10):\n",
    "    val.append(count**2)\n",
    "print(val)\n",
    "\n",
    "\n"
   ]
  },
  {
   "cell_type": "code",
   "execution_count": 3,
   "metadata": {},
   "outputs": [
    {
     "name": "stdout",
     "output_type": "stream",
     "text": [
      "(4, 2, 3, [9, 5])\n",
      "('p', 'r', 'o', 'g', 'r', 'a', 'm', 'i', 'z')\n",
      "1\n",
      "0\n"
     ]
    }
   ],
   "source": [
    "my_tuple = (4, 2, 3, [6, 5])\n",
    "my_tuple[3][0] = 9    # Output: (4, 2, 3, [9, 5])\n",
    "print(my_tuple)\n",
    "my_tuple = ('p', 'r', 'o', 'g', 'r', 'a', 'm', 'i', 'z')\n",
    "print(my_tuple)\n",
    "print(my_tuple.count('a'))\n",
    "print(my_tuple.index('p'))  "
   ]
  },
  {
   "cell_type": "code",
   "execution_count": null,
   "metadata": {},
   "outputs": [],
   "source": []
  }
 ],
 "metadata": {
  "kernelspec": {
   "display_name": "Python 3",
   "language": "python",
   "name": "python3"
  },
  "language_info": {
   "codemirror_mode": {
    "name": "ipython",
    "version": 3
   },
   "file_extension": ".py",
   "mimetype": "text/x-python",
   "name": "python",
   "nbconvert_exporter": "python",
   "pygments_lexer": "ipython3",
   "version": "3.7.3"
  }
 },
 "nbformat": 4,
 "nbformat_minor": 4
}
