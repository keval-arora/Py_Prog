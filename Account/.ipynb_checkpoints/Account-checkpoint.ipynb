{
 "cells": [
  {
   "cell_type": "code",
   "execution_count": null,
   "metadata": {},
   "outputs": [],
   "source": [
    "from decimal import Decimal\n",
    "class Account:\n",
    "    \"\"\"This is the main Account Class\"\"\"\n",
    "    \n",
    "    #Account class Constructor:\n",
    "    def __init__(self, name, balance):\n",
    "        if balance < Decimal('0.00'):\n",
    "            raise ValueError('Initialize balance with amount greater than ZERO')\n",
    "        else:\n",
    "            self.name = name\n",
    "            self.balance = balance\n",
    "    \n",
    "    #Instance method:\n",
    "    def deposite(self, amount):\n",
    "        if amount < Decimal('0.00'):\n",
    "            raise ValueError('Please enter amount greater than ZERO')\n",
    "        else:\n",
    "            self.balance += amount\n",
    "        "
   ]
  }
 ],
 "metadata": {
  "kernelspec": {
   "display_name": "Python 3",
   "language": "python",
   "name": "python3"
  },
  "language_info": {
   "codemirror_mode": {
    "name": "ipython",
    "version": 3
   },
   "file_extension": ".py",
   "mimetype": "text/x-python",
   "name": "python",
   "nbconvert_exporter": "python",
   "pygments_lexer": "ipython3",
   "version": "3.7.3"
  }
 },
 "nbformat": 4,
 "nbformat_minor": 2
}
