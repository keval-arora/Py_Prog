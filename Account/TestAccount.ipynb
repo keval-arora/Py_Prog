{
 "cells": [
  {
   "cell_type": "code",
   "execution_count": 1,
   "metadata": {},
   "outputs": [
    {
     "name": "stdout",
     "output_type": "stream",
     "text": [
      "Inside name setter\n",
      "Inside bal setter\n",
      "Inside name getter\n",
      "Inside bal getter\n",
      "Account name: Keval, Current Balance: 1000\n"
     ]
    }
   ],
   "source": [
    "from decimal import Decimal\n",
    "from account import Account\n",
    "\n",
    "#CREATING OBJECT OF TYPE ACCOUNT:\n",
    "\n",
    "acc1 = Account(\"KevalArora\", 1000)\n",
    "print(acc1)\n",
    "    \n",
    "    \n",
    "\n"
   ]
  }
 ],
 "metadata": {
  "kernelspec": {
   "display_name": "Python 3",
   "language": "python",
   "name": "python3"
  },
  "language_info": {
   "codemirror_mode": {
    "name": "ipython",
    "version": 3
   },
   "file_extension": ".py",
   "mimetype": "text/x-python",
   "name": "python",
   "nbconvert_exporter": "python",
   "pygments_lexer": "ipython3",
   "version": "3.7.3"
  }
 },
 "nbformat": 4,
 "nbformat_minor": 4
}
